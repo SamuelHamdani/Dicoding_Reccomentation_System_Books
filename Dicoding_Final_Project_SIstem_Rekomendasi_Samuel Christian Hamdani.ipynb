{
  "cells": [
    {
      "cell_type": "markdown",
      "source": [
        "# Laporan Proyek Akhir Machine Learning Samuel Christian Hamdani"
      ],
      "metadata": {
        "id": "Slkv9iN-fGLE"
      }
    },
    {
      "cell_type": "markdown",
      "source": [
        "## Domain Proyek\n",
        "\n",
        "\n",
        "---\n",
        "\n",
        "###Latar Belakang\n",
        "\n",
        "Perkembangan teknologi informasi yang pesat telah mendorong transformasi digital di berbagai bidang, termasuk dalam penyediaan layanan informasi dan hiburan. Salah satu bentuk transformasi tersebut adalah pemanfaatan sistem rekomendasi (recommender system) dalam membantu pengguna menemukan konten yang sesuai dengan minat atau kebutuhan mereka. Dalam konteks literasi dan pembelajaran, sistem rekomendasi buku menjadi salah satu solusi yang sangat relevan untuk mengatasi tantangan dalam memilih buku yang tepat di tengah melimpahnya pilihan yang tersedia.\n",
        "\n",
        "Sistem rekomendasi buku adalah sistem yang dirancang untuk memberikan saran bacaan kepada pengguna berdasarkan sejumlah faktor, seperti interaksi sebelumnya, preferensi pribadi, atau karakteristik konten dari buku itu sendiri. Salah satu pendekatan populer yang digunakan dalam pengembangan sistem rekomendasi adalah content-based filtering menawarkan solusi yang lebih personal dengan menganalisis karakteristik atau fitur dari buku, seperti judul dan penuli. Sistem ini akan merekomendasikan buku yang memiliki kemiripan konten dengan buku yang pernah dibaca atau disukai oleh pengguna. Dengan demikian, meskipun pengguna baru dan belum memiliki banyak interaksi, sistem tetap dapat memberikan rekomendasi berdasarkan deskripsi atau atribut buku yang pernah mereka baca.\n",
        "\n",
        "Melalui latar belakang ini, pengembangan model machine learning untuk sistem rekomendasi buku berdasarkan buku yang pernah dibaca menjadi topik yang penting dan relevan untuk diteliti. Dengan memanfaatkan data historis interaksi pengguna, diharapkan sistem yang dikembangkan mampu memberikan rekomendasi yang bersifat personal, adaptif, dan dapat meningkatkan kepuasan pengguna dalam menjelajahi dunia literasi.\n",
        "\n",
        "### Problem Statement\n",
        "1. Pengguna kesulitan menemukan buku yang sesuai dengan minat mereka karena terlalu banyak pilihan yang tersedia.\n",
        "\n",
        "2. Rekomendasi yang bersifat umum atau acak sering kali tidak relevan dan mengurangi kepuasan pengguna.\n",
        "\n",
        "3. Kurangnya pemanfaatan teknologi machine learning dalam sistem rekomendasi buku yang ada saat ini.\n",
        "\n",
        "### Goals\n",
        "1. Mengembangkan sistem rekomendasi buku berbasis machine learning.\n",
        "\n",
        "2. Menganalisis dan memahami preferensi pengguna berdasarkan data buku yang pernah dibaca.\n",
        "\n",
        "3. Meningkatkan relevansi dan akurasi rekomendasi buku untuk setiap pengguna.\n",
        "\n",
        "### Solution Statement\n",
        "1. Mengembangkan sistem rekomendasi buku berbasis machine learning dengan pendekatan content-based filtering, yaitu merekomendasikan buku yang memiliki kemiripan fitur (seperti judul, penulis) dengan buku yang pernah dibaca atau disukai oleh pengguna.\n",
        "\n",
        "2. Menggunakan algoritma machine learning untuk mempelajari pola kesukaan pengguna dan menghasilkan rekomendasi yang bersifat personal.\n",
        "\n",
        "3. Menerapkan teknik pemrosesan teks (seperti TF-IDF atau cosine similarity) untuk mengukur kemiripan antar buku berdasarkan kontennya."
      ],
      "metadata": {
        "id": "m9qWkonxfLH6"
      }
    },
    {
      "cell_type": "markdown",
      "source": [
        "# Data Preparation\n",
        "\n",
        "---\n",
        "\n",
        "Pada tahap ini dilakukan eksplorasi awal dan pembersihan terhadap data yang digunakan untuk membangun sistem rekomendasi buku. Dataset yang digunakan berisi beberapa fitur penting yang memengaruhi pengembangan sistem rekomendasi buku.\n",
        "\n",
        "## Sumber Data\n",
        "Sumber Dataset : https://www.kaggle.com/datasets/arashnic/book-recommendation-dataset?select=Ratings.csv\n",
        "\n",
        "Dataset yang diambil berasal dari sumber open source yaitu Kaggle yang menyimpan 3 dataset seperti macam-macam buku yang tersedia, rating pengguna, dan jumlah pengguna.\n",
        "\n",
        "## Jumlah Data\n",
        "\n",
        "1. Dataset Buku (books.csv)\n",
        "  \n",
        "    Jumlah Kolom : Pada dataset terdapat jumlah kolom sebanyak 8 kolom yang menyimpan data buku seperti:\n",
        "\n",
        "  *   ISBN\n",
        "  *   Book-TItle\n",
        "  *   Book-Author\n",
        "  *   Year-Of-Publication\n",
        "  *   Publisher\n",
        "  *   Image-URL-S\n",
        "  *   Image-URL-M\n",
        "  *   Image-URL-L\n",
        "\n",
        "  Jumlah Baris : Sebanyak 271360 baris yang menyimpan data buku pada dataset ini.\n",
        "\n",
        "2. Dataset Pengguna (users.csv)\n",
        "  \n",
        "    Jumlah Kolom : Pada dataset terdapat jumlah kolom sebanyak 3 kolom yang menyimpan data rating pengguna kepada buku yang pernah dibaca seperti:\n",
        "\n",
        "  *   User-ID\n",
        "  *   Location\n",
        "  *   Age\n",
        "\n",
        "  Jumlah Baris : Sebanyak 278858 baris yang menyimpan data buku pada dataset ini.\n",
        "\n",
        "3. Dataset Rating (rating.csv)\n",
        "  \n",
        "    Jumlah Kolom : Pada dataset terdapat jumlah kolom sebanyak 3 kolom yang menyimpan data pengguna seperti:\n",
        "\n",
        "  *   User-ID\n",
        "  *   ISBN\n",
        "  *   Book-Rating\n",
        "\n",
        "  Jumlah Baris : Sebanyak 1149780 baris yang menyimpan data buku pada dataset ini.\n",
        "\n",
        "## Kondisi Data:\n",
        "\n",
        "1. Nilai Missing Value : Pada setiap dataset setelah dilakukan pemeriksaan nilai missing value didapatkan hasil bahwa dataset buku (books.csv) memiliki 3 baris yang menyimpan data kosong, pada dataset pengguna (users.csv) terdapat cukup banyak nilai kosong untuk usia pengguna, dan dataset rating (rating.csv) tidak memiliki data kosong. Dataset yang menyimpan nilai kosong akan dilakukan proses pembersihan.\n",
        "\n",
        "2. Nilai Duplikat : Pada ketiga dataset, tidak terdapat data yang terduplikat, sehingga bisa disimpulkan bahwa ketiga dataset aman dari datad uplikat.\n",
        "\n",
        "## Deskripsi Fitur\n",
        "Berikut adalah penjelasan masing-masing fitur dalam masing-masing dataset:\n",
        "1. Dataset Buku (books.csv)\n",
        "\n",
        "  *   ISBN : Kode unik identifikasi untuk setiap buku (International Standard Book Number). Digunakan untuk menghubungkan data buku dengan data rating.\n",
        "  *   Book-TItle : Judul lengkap dari buku. Berguna untuk menampilkan informasi buku pada antarmuka pengguna\n",
        "  *   Book-Author : Nama penulis buku\n",
        "  *   Year-Of-Publication : Tahun terbit buku.\n",
        "  *   Publisher : Nama penerbit buku.\n",
        "  *   Image-URL-S : URL gambar sampul buku dalam ukuran kecil (S)\n",
        "  *   Image-URL-M : URL gambar sampul buku dalam ukuran sedang (M)\n",
        "  *   Image-URL-L : URL gambar sampul buku dalam ukuran besar (L)\n",
        "\n",
        "2. Dataset Pengguna (users.csv)\n",
        "  *   User-ID : ID unik untuk masing-masing pengguna. Digunakan untuk menghubungkan data pengguna dengan data rating.\n",
        "  *   Location : Lokasi pengguna\n",
        "  *   Age : Usia pengguna\n",
        "\n",
        "3. Dataset Rating (ratings.csv)\n",
        "  *   User-ID : ID unik untuk masing-masing pengguna. Digunakan untuk menghubungkan data pengguna dengan data pengguna.\n",
        "  *   ISBN : Kode unik identifikasi untuk setiap buku (International Standard Book Number). Digunakan untuk menghubungkan data buku dengan data rating.\n",
        "  *   Book-Rating : Nilai rating yang diberikan pengguna terhadap buku yang pernah dibaca, dinilai dalam skala 0–10.\n",
        "\n",
        "## Proses Persiapan Data\n",
        "Dikarenakan model yang dikembangkan menggunakan pendekatan Content-Based Filtering, model akan dipakai untuk memberikan rekomendasi buku berdasarkan buku yang telah dibaca oleh pengguna berdasarkan penulis yang sama. Oleh karena itu, dilakukan proses persiapan data hanya pada dataset 'books.csv' karena menyimpan data buku dan penulis. Tahapan yang dilakukan dalam persiapan data diantaranya:\n",
        "\n",
        "1. Load Dataset\n",
        "\n",
        "  Dataset diupload dari google drive yang dimana sudah didownload dari sumber (Kaggle) agar dapat digunakan untuk perkembangan sistem rekomendasi.\n",
        "\n",
        "2. Perubahan Nama Kolom\n",
        "\n",
        "  Kolom-kolom pada masing-masing dataset akan dibuah menjadi bentuk yang dapat dibaca oleh sistem dan mudah untuk ditulis oleh pengembang.\n",
        "\n",
        "3. Pembersihan Data dan Perubahan Tipe Data\n",
        "  \n",
        "  Dataset yang menyimpan data yang tidak sesuai akan dilakukan pembersihan agar dan Kolom-kolom yang tipe datanya tidak sesuai dengan data yang disimpan akan dilakukan pembersihan untuk memudahkan proses eksplorasi selanjutnya.\n",
        "\n",
        "4. Distribusi Data\n",
        "\n",
        "  Dibuatkan sebuah visualisasi untuk menghitung jumlah banyak buku yang ada dari tahun ke tahun, jumlah buku yang diterbit dari masing-masing penerbit, jumlah buku yang dibuat oleh penulis.\n",
        "\n",
        "5. Penanganan Nilai Kosong\n",
        "\n",
        "  Dataset diperiksa untuk mengetahui apakah terdapat nilai yang hilang atau tidak valid. Jika ditemukan, dilakukan penanganan seperti imputasi atau penghapusan baris.\n",
        "\n",
        "6. Penanganan Nilai Duplikat\n",
        "\n",
        "  Dataset diperiksa untuk mengetahui apakah terdapat nilai yang Duplikat. Jika ditemukan, dilakukan penanganan seperti penghapusan baris.\n",
        "\n",
        "7. Transformasi Data\n",
        "  \n",
        "  Setelah dataset telah bersih, selanjutnya mengtransformasi data menjadi bentuk dictionary agar bisa dipakai dalam pengembangan model sistem rekomendasi."
      ],
      "metadata": {
        "id": "9VQXXggEhNoE"
      }
    },
    {
      "cell_type": "markdown",
      "source": [
        "## Import Library\n",
        "Hal pertama yang dilakukan sebelum membuat model adalah mengimpor pustaka (library) yang digunakan dalam file ini berupa pandas, seaborn, matplotlib, dan sebagainya"
      ],
      "metadata": {
        "id": "m-wxxBtgpuH1"
      }
    },
    {
      "cell_type": "code",
      "execution_count": null,
      "metadata": {
        "id": "CuVschmGJ2Wy"
      },
      "outputs": [],
      "source": [
        "import pandas as pd\n",
        "import numpy as np\n",
        "import tensorflow as tf\n",
        "from tensorflow import keras\n",
        "from tensorflow.keras import layers\n",
        "from pathlib import Path\n",
        "import matplotlib.pyplot as plt\n",
        "from sklearn.feature_extraction.text import TfidfVectorizer"
      ]
    },
    {
      "cell_type": "markdown",
      "source": [
        "## Load Dataset\n",
        "\n",
        "Selanjutnya, dataset diupload terlebih dahulu menggunakan fungsi 'read_csv' dari library pandas untuk memasukkan dataset kedalam environment agar digunakan dalam pengembangan model."
      ],
      "metadata": {
        "id": "DwbYVY6MrCbL"
      }
    },
    {
      "cell_type": "code",
      "execution_count": null,
      "metadata": {
        "colab": {
          "base_uri": "https://localhost:8080/"
        },
        "id": "q-7vi_pGKKIl",
        "outputId": "ab389204-316b-4c2f-a881-2d85d4f32d6e"
      },
      "outputs": [
        {
          "output_type": "stream",
          "name": "stderr",
          "text": [
            "<ipython-input-2-8ae4f5041d79>:1: DtypeWarning: Columns (3) have mixed types. Specify dtype option on import or set low_memory=False.\n",
            "  books = pd.read_csv('/content/drive/MyDrive/Dicoding_ML/Reccomendation_System/Books_Reccomend/Books.csv')\n"
          ]
        }
      ],
      "source": [
        "books = pd.read_csv('/content/drive/MyDrive/Dicoding_ML/Reccomendation_System/Books_Reccomend/Books.csv')\n",
        "ratings = pd.read_csv('/content/drive/MyDrive/Dicoding_ML/Reccomendation_System/Books_Reccomend/Ratings.csv')\n",
        "users = pd.read_csv('/content/drive/MyDrive/Dicoding_ML/Reccomendation_System/Books_Reccomend/Users.csv')"
      ]
    },
    {
      "cell_type": "markdown",
      "source": [
        "Dari hasil pemanggilan dataset pada kode diatas, sistem sudah menyimpan data-data dan fitur yang tersimpan pada setiap dataset seperti data buku, rating, dan pengguna."
      ],
      "metadata": {
        "id": "R2buM9Z5rJ7j"
      }
    },
    {
      "cell_type": "code",
      "execution_count": null,
      "metadata": {
        "colab": {
          "base_uri": "https://localhost:8080/"
        },
        "id": "xoVlLcGbMhKe",
        "outputId": "80bc1195-3944-4a29-b7ca-a8f5236212e4"
      },
      "outputs": [
        {
          "output_type": "stream",
          "name": "stdout",
          "text": [
            "<class 'pandas.core.frame.DataFrame'>\n",
            "RangeIndex: 271360 entries, 0 to 271359\n",
            "Data columns (total 8 columns):\n",
            " #   Column               Non-Null Count   Dtype \n",
            "---  ------               --------------   ----- \n",
            " 0   ISBN                 271360 non-null  object\n",
            " 1   Book-Title           271360 non-null  object\n",
            " 2   Book-Author          271358 non-null  object\n",
            " 3   Year-Of-Publication  271360 non-null  object\n",
            " 4   Publisher            271358 non-null  object\n",
            " 5   Image-URL-S          271360 non-null  object\n",
            " 6   Image-URL-M          271360 non-null  object\n",
            " 7   Image-URL-L          271357 non-null  object\n",
            "dtypes: object(8)\n",
            "memory usage: 16.6+ MB\n"
          ]
        }
      ],
      "source": [
        "books.info()"
      ]
    },
    {
      "cell_type": "markdown",
      "source": [
        "Dari output informasi dataset, terdapat informasi dataset dengan jumlah kolom sebanyak 8 kolom dengan tipe data object dan sebanyak 271360 data yang tersimpan."
      ],
      "metadata": {
        "id": "NIA4CfHSrUdD"
      }
    },
    {
      "cell_type": "code",
      "execution_count": null,
      "metadata": {
        "colab": {
          "base_uri": "https://localhost:8080/"
        },
        "id": "NbKGr5ACMixa",
        "outputId": "c78d1a28-a92e-47bf-b704-83c6bfb4937c"
      },
      "outputs": [
        {
          "output_type": "stream",
          "name": "stdout",
          "text": [
            "<class 'pandas.core.frame.DataFrame'>\n",
            "RangeIndex: 1149780 entries, 0 to 1149779\n",
            "Data columns (total 3 columns):\n",
            " #   Column       Non-Null Count    Dtype \n",
            "---  ------       --------------    ----- \n",
            " 0   User-ID      1149780 non-null  int64 \n",
            " 1   ISBN         1149780 non-null  object\n",
            " 2   Book-Rating  1149780 non-null  int64 \n",
            "dtypes: int64(2), object(1)\n",
            "memory usage: 26.3+ MB\n"
          ]
        }
      ],
      "source": [
        "ratings.info()"
      ]
    },
    {
      "cell_type": "markdown",
      "source": [
        "Dari output informasi dataset, terdapat informasi dataset yang dapat diambil, seperti :\n",
        "1. Terdapat 1 kolom yang menyimpan tipe data object. Ini digunakan untuk menyimpan data kode unik buku yang tersusun dari angka dan huruf.\n",
        "2. Terdapat 2 kolom yang menyimpan tipe data integer. Ini digunakan untuk menyimpan ID-Pengguna dan rating yang dimasukkan.\n",
        "3. Sebanyak 1.149.780 Data yang tersimpan pada dataset ratings.csv"
      ],
      "metadata": {
        "id": "2w5550hvtaqz"
      }
    },
    {
      "cell_type": "code",
      "execution_count": null,
      "metadata": {
        "id": "P1WZ1NLzMkQJ",
        "colab": {
          "base_uri": "https://localhost:8080/"
        },
        "outputId": "277da10d-fe02-4ec4-9368-89b279d50f04"
      },
      "outputs": [
        {
          "output_type": "stream",
          "name": "stdout",
          "text": [
            "<class 'pandas.core.frame.DataFrame'>\n",
            "RangeIndex: 278858 entries, 0 to 278857\n",
            "Data columns (total 3 columns):\n",
            " #   Column    Non-Null Count   Dtype  \n",
            "---  ------    --------------   -----  \n",
            " 0   User-ID   278858 non-null  int64  \n",
            " 1   Location  278858 non-null  object \n",
            " 2   Age       168096 non-null  float64\n",
            "dtypes: float64(1), int64(1), object(1)\n",
            "memory usage: 6.4+ MB\n"
          ]
        }
      ],
      "source": [
        "users.info()"
      ]
    },
    {
      "cell_type": "markdown",
      "source": [
        "Dari output informasi dataset, terdapat informasi dataset yang dapat diambil, seperti :\n",
        "1. Terdapat 1 kolom yang menyimpan tipe data object. Ini digunakan untuk menyimpan data lokasi pengguna\n",
        "2. Terdapat 1 kolom yang menyimpan tipe data integer. Ini digunakan untuk menyimpan ID-Pengguna dan rating yang dimasukkan.\n",
        "3. Terdapat 1 kolom yang menyimpan tipe data float. Ini digunakan untuk menyimpan data usia pengguna\n",
        "4. Sebanyak 278858 Data yang tersimpan pada dataset users.csv"
      ],
      "metadata": {
        "id": "6AHmOKTPubHk"
      }
    },
    {
      "cell_type": "markdown",
      "source": [
        "## Exploratory Data Analysis (EDA)\n",
        "Tahap selanjutnya ialah melakukan EDA guna mengenali data-data yang tersimpan pada dataset dan pendistribusian data. Tahapan EDA yang dilakukan disini adalah:\n",
        "1. Perubahan Nama Kolom\n",
        "2. Pembersihan Data dan Perubahan Tipe Data\n",
        "3. Distribusi Data\n",
        "4. Penanganan Nilai Kosong\n",
        "5. Penanganan Data Duplikat\n",
        "\n",
        "---\n",
        "\n",
        "\n",
        "### Perubahan Nama Kolom"
      ],
      "metadata": {
        "id": "7bdNgQLMwD6z"
      }
    },
    {
      "cell_type": "code",
      "execution_count": null,
      "metadata": {
        "id": "2cMhdZwtNX0n"
      },
      "outputs": [],
      "source": [
        "books = books.rename(columns={\n",
        "    'Book-Title': 'Title',\n",
        "    'Book-Author': 'Author',\n",
        "    'Year-Of-Publication': 'Year',\n",
        "    'Image-URL-S': 'Image_S',\n",
        "    'Image-URL-M': 'Image_M',\n",
        "    'Image-URL-L': 'Image_L'\n",
        "    })"
      ]
    },
    {
      "cell_type": "markdown",
      "source": [
        "Setelah dilakukan pemanggilan dataset dan melihat fitur yang tersedia, selanjutnya dilakukan perubahan nama kolom pada dataset 'books.csv' agar sistem dapat membaca kolom-kolom tersebut yang menyimpan data buku saat dianalisa dan memudahkan pengembang untuk menggunakan nama kolom tersebut"
      ],
      "metadata": {
        "id": "Wgy3XwOnv8pb"
      }
    },
    {
      "cell_type": "code",
      "execution_count": null,
      "metadata": {
        "colab": {
          "base_uri": "https://localhost:8080/"
        },
        "id": "Uw3jsjc6M5Gv",
        "outputId": "923a42fc-2f97-4ae3-c649-86389acfe944"
      },
      "outputs": [
        {
          "output_type": "stream",
          "name": "stdout",
          "text": [
            "Banyak data buku:  271360\n",
            "Banyak data pengarang:  102023\n",
            "jenis tahun:  [2002 2001 1991 1999 2000 1993 1996 1988 2004 1998 1994 2003 1997 1983\n",
            " 1979 1995 1982 1985 1992 1986 1978 1980 1952 1987 1990 1981 1989 1984 0\n",
            " 1968 1961 1958 1974 1976 1971 1977 1975 1965 1941 1970 1962 1973 1972\n",
            " 1960 1966 1920 1956 1959 1953 1951 1942 1963 1964 1969 1954 1950 1967\n",
            " 2005 1957 1940 1937 1955 1946 1936 1930 2011 1925 1948 1943 1947 1945\n",
            " 1923 2020 1939 1926 1938 2030 1911 1904 1949 1932 1928 1929 1927 1931\n",
            " 1914 2050 1934 1910 1933 1902 1924 1921 1900 2038 2026 1944 1917 1901\n",
            " 2010 1908 1906 1935 1806 2021 '2000' '1995' '1999' '2004' '2003' '1990'\n",
            " '1994' '1986' '1989' '2002' '1981' '1993' '1983' '1982' '1976' '1991'\n",
            " '1977' '1998' '1992' '1996' '0' '1997' '2001' '1974' '1968' '1987' '1984'\n",
            " '1988' '1963' '1956' '1970' '1985' '1978' '1973' '1980' '1979' '1975'\n",
            " '1969' '1961' '1965' '1939' '1958' '1950' '1953' '1966' '1971' '1959'\n",
            " '1972' '1955' '1957' '1945' '1960' '1967' '1932' '1924' '1964' '2012'\n",
            " '1911' '1927' '1948' '1962' '2006' '1952' '1940' '1951' '1931' '1954'\n",
            " '2005' '1930' '1941' '1944' 'DK Publishing Inc' '1943' '1938' '1900'\n",
            " '1942' '1923' '1920' '1933' 'Gallimard' '1909' '1946' '2008' '1378'\n",
            " '2030' '1936' '1947' '2011' '2020' '1919' '1949' '1922' '1897' '2024'\n",
            " '1376' '1926' '2037']\n",
            "Jenis Penerbit:  ['Oxford University Press' 'HarperFlamingo Canada' 'HarperPerennial' ...\n",
            " 'Tempo' 'Life Works Books' 'Connaught']\n"
          ]
        }
      ],
      "source": [
        "print('Banyak data buku: ', len(books.ISBN.unique()))\n",
        "print('Banyak data pengarang: ', len(books.Author.unique()))\n",
        "print('jenis tahun: ', books.Year.unique())\n",
        "print('Jenis Penerbit: ', books.Publisher.unique())"
      ]
    },
    {
      "cell_type": "markdown",
      "source": [
        "Pada kode diatas, digunakan untuk mencari jumlah data yang tersimpan pada dataset seperti :\n",
        "1. Jumlah buku sebanyak 271360\n",
        "2. Jumlah pengarang sebanyak 102023\n",
        "3. Rentang tahun terbit dari 0 s.d. 2050. Namun terdapat beberapa data yang seharusnya tidak dapat dikategorikan sebagai tahun terbit seperti 'DK Publishing Inc, dan Gallimard', hal ini akan dilakukan tahap pembersihan agar kolom tahun terbit terhindar dari data ini\n",
        "4. Macam - macam penerbit yang tersimpan"
      ],
      "metadata": {
        "id": "JTFU6mB-rwqa"
      }
    },
    {
      "cell_type": "code",
      "execution_count": null,
      "metadata": {
        "id": "kNOD85IeQTj1"
      },
      "outputs": [],
      "source": [
        "ratings = ratings.rename(columns={\n",
        "    'User-ID': 'User_ID',\n",
        "    'Book-Rating': 'Rating',\n",
        "    })"
      ]
    },
    {
      "cell_type": "markdown",
      "source": [
        "Setelah dilakukan pemanggilan dataset dan melihat fitur yang tersedia, selanjutnya dilakukan perubahan nama kolom pada dataset 'rating.csv' agar sistem dapat membaca kolom-kolom tersebut yang menyimpan data rating pengguna."
      ],
      "metadata": {
        "id": "OwHoKlgtuOOS"
      }
    },
    {
      "cell_type": "code",
      "execution_count": null,
      "metadata": {
        "id": "A-bw85ucQJp6",
        "colab": {
          "base_uri": "https://localhost:8080/"
        },
        "outputId": "5a340620-27e2-4daf-ecd9-85a265b55572"
      },
      "outputs": [
        {
          "output_type": "stream",
          "name": "stdout",
          "text": [
            "Banyaknya Pengguna:  105283\n",
            "Jenis Rating:  [ 0  5  3  6  8  7 10  9  4  1  2]\n"
          ]
        }
      ],
      "source": [
        "print('Banyaknya Pengguna: ', len(ratings.User_ID.unique()))\n",
        "print('Jenis Rating: ', ratings.Rating.unique())"
      ]
    },
    {
      "cell_type": "markdown",
      "source": [
        "Pada kode diatas, digunakan untuk mencari jumlah data yang tersimpan pada dataset seperti :\n",
        "1. Banyaknya pengguna sebanyak 105283 pengguna.\n",
        "2. Nilai rating yang dimulai dari 0 s.d 10. Hal ini dapat diasumsikan bahwa buku yang tidak disukai oleh pengguna diberikan nilai 0 dan buku yang disukai oleh pengguna bernilai 10."
      ],
      "metadata": {
        "id": "a53xotYAtypD"
      }
    },
    {
      "cell_type": "code",
      "execution_count": null,
      "metadata": {
        "id": "v-y5LD75MZk9"
      },
      "outputs": [],
      "source": [
        "users = users.rename(columns={'User-ID': 'User_ID'})"
      ]
    },
    {
      "cell_type": "markdown",
      "source": [
        "Kode diatas digunakan untuk mengubah nama kolom User-ID menjadi User_ID pada dataset 'users.csv' untuk memudahkan sistem membaca kolom dan membantu pengembang dalam menggunakan kolom tersebut"
      ],
      "metadata": {
        "id": "m6hqjwH5uuSS"
      }
    },
    {
      "cell_type": "code",
      "source": [
        "print('Banyaknya Pengguna: ', len(users.User_ID.unique()))\n",
        "print('Lokasi Pengguna: ', users.Location.unique())"
      ],
      "metadata": {
        "colab": {
          "base_uri": "https://localhost:8080/"
        },
        "id": "gduaUwtn3cgF",
        "outputId": "a16a418b-edf6-4ade-9365-1733972cf017"
      },
      "execution_count": null,
      "outputs": [
        {
          "output_type": "stream",
          "name": "stdout",
          "text": [
            "Banyaknya Pengguna:  278858\n",
            "Lokasi Pengguna:  ['nyc, new york, usa' 'stockton, california, usa'\n",
            " 'moscow, yukon territory, russia' ... 'sergnano, lombardia, italy'\n",
            " 'stranraer, n/a, united kingdom' 'tacoma, washington, united kingdom']\n"
          ]
        }
      ]
    },
    {
      "cell_type": "markdown",
      "source": [
        "Pada dataset ini digunakan untuk mencari tahu detail pada dataset 'users.csv' seperti:\n",
        "1. Jumlah Pengguna Sebanyak 278858 Pengguna\n",
        "2. Lokasi Pengguna yang tersimpan dari berbagai neagar"
      ],
      "metadata": {
        "id": "IqWPhlt23bC4"
      }
    },
    {
      "cell_type": "markdown",
      "source": [
        "### Pembersihan Data dan Perubahan Tipe Data"
      ],
      "metadata": {
        "id": "pZDa1mruze_0"
      }
    },
    {
      "cell_type": "code",
      "execution_count": null,
      "metadata": {
        "id": "3xjoVGL2XPT0",
        "colab": {
          "base_uri": "https://localhost:8080/"
        },
        "outputId": "354fbca0-5ab7-431e-9121-48f0ddbd95fe"
      },
      "outputs": [
        {
          "output_type": "stream",
          "name": "stdout",
          "text": [
            "Buku yang menyimpan tahun 'DK Publishing Inc' setelah dihapus:  0\n",
            "Buku yang menyimpan tahun 'Gallimard' setelah dihapus:  0\n"
          ]
        }
      ],
      "source": [
        "# Mengubah kolom 'Year' menjadi tipe data string agar dapat memfilter nilai non-numerik\n",
        "books['Year'] = books['Year'].astype(str)\n",
        "\n",
        "# Daftar nilai tahun yang ingin dihapus\n",
        "remove_publisher = ['DK Publishing Inc', 'Gallimard']\n",
        "\n",
        "# Menghapus baris dengan nilai tahun yang tidak diinginkan\n",
        "books = books[~books['Year'].isin(remove_publisher)]\n",
        "\n",
        "# Mengubah kembali kolom 'Year' menjadi tipe data numerik (integer) setelah menghapus nilai non-numerik\n",
        "books['Year'] = pd.to_numeric(books['Year'], errors='coerce')\n",
        "\n",
        "print(\"Buku yang menyimpan tahun 'DK Publishing Inc' setelah dihapus: \", len(books[books['Year'] == 'DK Publishing Inc']))\n",
        "print(\"Buku yang menyimpan tahun 'Gallimard' setelah dihapus: \", len(books[books['Year'] == 'Gallimard']))"
      ]
    },
    {
      "cell_type": "markdown",
      "source": [
        "Pada kode diatas digunakan untuk menghapus ambiguitas pada data yang tersimpan pada kolom tahun terbit yang menyimpan data penerbit. Hal ini dilakukan untuk menghindari kesalahan sebelum pengembangan model. Setelah model dijalankan didapatkan hasil bahwa data yang menyimpan jenis penerbit sebagai tahun terbit telah dihapus dari dataset."
      ],
      "metadata": {
        "id": "AnSASVai8PAt"
      }
    },
    {
      "cell_type": "code",
      "execution_count": null,
      "metadata": {
        "id": "o2ot53vBaPYa"
      },
      "outputs": [],
      "source": [
        "books['Year'] = books['Year'].astype(int)"
      ]
    },
    {
      "cell_type": "markdown",
      "source": [
        "Pada kode diatas, digunakan untuk mengubah tipe data untuk kolom 'Year' pada dataset 'books.csv' agar bisa dipakai untuk tahap distribusi data"
      ],
      "metadata": {
        "id": "o0JZkmdi8qBM"
      }
    },
    {
      "cell_type": "code",
      "source": [
        "# Menyimpan buku dalam rentang tahun 1950-2025\n",
        "books = books[(books['Year'] >= 1950) & (books['Year'] <= 2025)].copy()\n",
        "\n",
        "print(\"Jumlah buku dalam rentang tahun 1950-2025:\", len(books))"
      ],
      "metadata": {
        "colab": {
          "base_uri": "https://localhost:8080/"
        },
        "id": "995sX0Cj7K0F",
        "outputId": "a4f04a70-e1c6-4771-e3f2-55ad194b268c"
      },
      "execution_count": null,
      "outputs": [
        {
          "output_type": "stream",
          "name": "stdout",
          "text": [
            "Jumlah buku dalam rentang tahun 1950-2025: 266434\n"
          ]
        }
      ]
    },
    {
      "cell_type": "markdown",
      "source": [
        "Pada Kode diatas digunakan untuk memfilter data buku agar hanya mencakup buku-buku yang diterbitkan dalam rentang tahun 1950 hingga 2025. Hal ini dilakukan untuk menghapus data yang tidak relevan atau tidak valid, seperti tahun yang terlalu lama (sebelum 1950) atau data anomali (tahun di masa depan atau tidak masuk akal)."
      ],
      "metadata": {
        "id": "8xKV8yTv81jU"
      }
    },
    {
      "cell_type": "markdown",
      "source": [
        "### Distribusi Data"
      ],
      "metadata": {
        "id": "Ybg62m5xwugj"
      }
    },
    {
      "cell_type": "code",
      "source": [
        "# Membuat visualisasi pembuatan buku berdasarkan tahun terbitnya\n",
        "\n",
        "year_counts = books.groupby('Year')['Title'].count()\n",
        "sort_year = year_counts.sort_values(ascending=False)\n",
        "#Memanggil 10 tahun teratas yang membuat buku paling banyak\n",
        "top_10_years = sort_year.head(10)\n",
        "# Plot 10 tahun teratas dan buku yang ditulis oleh penulis\n",
        "plt.figure(figsize=(12, 6))\n",
        "top_10_years.plot(kind='bar')\n",
        "plt.xlabel('Tahun Terbit')\n",
        "plt.ylabel('Jumlah Buku')\n",
        "plt.title('10 Tahun Teratas Berdasarkan Jumlah Buku Yang Diterbit')\n",
        "plt.xticks(rotation=45)\n",
        "plt.tight_layout()\n",
        "plt.show()"
      ],
      "metadata": {
        "colab": {
          "base_uri": "https://localhost:8080/",
          "height": 607
        },
        "id": "DCbLxKFtxlpD",
        "outputId": "39adf04e-c2f3-4cc2-cfcc-58e0161ef2dc"
      },
      "execution_count": null,
      "outputs": [
        {
          "output_type": "display_data",
          "data": {
            "text/plain": [
              "<Figure size 1200x600 with 1 Axes>"
            ],
            "image/png": "[encoded data removed]"
          },
          "metadata": {}
        }
      ]
    },
    {
      "cell_type": "markdown",
      "source": [
        "Pada kode diatas, digunakan untuk menghasilkan visualisasi untuk melihat 10 tahun teratas yang membuat buku paling banyak. Dari hasil visualisasi, dijelaskan bahwa tahun 2002 adalah tahun dengan jumlah buku terbanyak diikuti oleh tahun 1999, 2001, dan 2000."
      ],
      "metadata": {
        "id": "S_TnQHcM5PdW"
      }
    },
    {
      "cell_type": "code",
      "source": [
        "# Membuat visualisasi 10 penerbit teratas yang paling banyak membuat buku\n",
        "\n",
        "publisher_counts = books.groupby('Publisher')['Title'].count()\n",
        "sort_publisher = publisher_counts.sort_values(ascending=False)\n",
        "#Memanggil 10 author teratas yang membuat buku paling banyak\n",
        "top_10_publisher = sort_publisher.head(10)\n",
        "# Plot 10 penerbit teratas dan buku yang ditulis oleh penulis\n",
        "plt.figure(figsize=(12, 6))\n",
        "top_10_publisher.plot(kind='bar')\n",
        "plt.xlabel('Nama Penerbit')\n",
        "plt.ylabel('Jumlah Buku')\n",
        "plt.title('10 Penerbit Teratas Berdasarkan Jumlah Buku Yang Diterbit')\n",
        "plt.xticks(rotation=45)\n",
        "plt.tight_layout()\n",
        "plt.show()"
      ],
      "metadata": {
        "colab": {
          "base_uri": "https://localhost:8080/",
          "height": 607
        },
        "id": "MEpfP-5Cxlh0",
        "outputId": "3d600dfb-5f88-484c-d8d0-ea884e0075c0"
      },
      "execution_count": null,
      "outputs": [
        {
          "output_type": "display_data",
          "data": {
            "text/plain": [
              "<Figure size 1200x600 with 1 Axes>"
            ],
            "image/png": "[encoded data removed]"
          },
          "metadata": {}
        }
      ]
    },
    {
      "cell_type": "markdown",
      "source": [
        "Pada kode diatas, digunakan untuk menghasilkan visualisasi untuk melihat 10 penerbit teratas yang membuat buku paling banyak. Dari hasil visualisasi dijelaskan bahwa, Harlequin merupakan penerbit dengan jumlah buku terbanyak yang diterbitkan, diikuti oleh Silhouette, Pocket, dan sebagainya."
      ],
      "metadata": {
        "id": "7bjA5zs7-B8u"
      }
    },
    {
      "cell_type": "code",
      "source": [
        "# Membuat visualisasi 10 penulis teratas yang paling banyak membuat buku\n",
        "\n",
        "author_counts = books.groupby('Author')['Title'].count()\n",
        "sort_authors = author_counts.sort_values(ascending=False)\n",
        "#Memanggil 10 author teratas yang membuat buku paling banyak\n",
        "top_10_authors = sort_authors.head(10)\n",
        "\n",
        "# Plot 10 penulis teratas dan buku yang dibuat oleh penulis\n",
        "plt.figure(figsize=(12, 6))\n",
        "top_10_authors.plot(kind='bar')\n",
        "plt.xlabel('Nama Penulis')\n",
        "plt.ylabel('Jumlah Buku')\n",
        "plt.title('10 Penulis Teratas Berdasarkan Jumlah Buku Yang Ditulis')\n",
        "plt.xticks(rotation=45)\n",
        "plt.tight_layout()\n",
        "plt.show()"
      ],
      "metadata": {
        "colab": {
          "base_uri": "https://localhost:8080/",
          "height": 607
        },
        "id": "fDFHT3a8xCMj",
        "outputId": "6d5bedb5-8001-4f3a-d162-48e5923850b7"
      },
      "execution_count": null,
      "outputs": [
        {
          "output_type": "display_data",
          "data": {
            "text/plain": [
              "<Figure size 1200x600 with 1 Axes>"
            ],
            "image/png": "[encoded data removed]"
          },
          "metadata": {}
        }
      ]
    },
    {
      "cell_type": "markdown",
      "source": [
        "Pada kode diatas, digunakan untuk menghasilkan visualisasi untuk melihat 10 penulis buku teratas yang membuat buku paling banyak. Dari hasil visualisasi dijelaskan bahwa, Agatha Christie merupakan penulis dengan jumlah buku terbanyak yang diterbitkan, diikuti oleh William Shakespeare dan Stephen King. Penulis-penulis lainnya yang juga mendominasi adalah Ann M. Martin, Francine Pascal, dan Carolyn Keene."
      ],
      "metadata": {
        "id": "NqRolzqC-dEt"
      }
    },
    {
      "cell_type": "markdown",
      "source": [
        "### Penanganan Nilai Kosong (Missing Value)"
      ],
      "metadata": {
        "id": "ciKY0TZMw13L"
      }
    },
    {
      "cell_type": "code",
      "execution_count": null,
      "metadata": {
        "id": "j0C9BUIQRb6S",
        "colab": {
          "base_uri": "https://localhost:8080/"
        },
        "outputId": "4a4ed777-55b0-496c-f1c7-ffb692ab1c62"
      },
      "outputs": [
        {
          "output_type": "stream",
          "name": "stdout",
          "text": [
            "Jumlah Missing Value pada dataset books:\n",
            " ISBN         0\n",
            "Title        0\n",
            "Author       2\n",
            "Year         0\n",
            "Publisher    2\n",
            "Image_S      0\n",
            "Image_M      0\n",
            "Image_L      0\n",
            "dtype: int64\n",
            "===============\n",
            "Jumlah Missing Value pada dataset ratings:\n",
            " User_ID    0\n",
            "ISBN       0\n",
            "Rating     0\n",
            "dtype: int64\n",
            "===============\n",
            "Jumlah Missing Value pada dataset users:\n",
            " User_ID          0\n",
            "Location         0\n",
            "Age         110762\n",
            "dtype: int64\n"
          ]
        }
      ],
      "source": [
        "print(\"Jumlah Missing Value pada dataset books:\\n\",books.isnull().sum())\n",
        "print(\"===============\")\n",
        "print(\"Jumlah Missing Value pada dataset ratings:\\n\",ratings.isnull().sum())\n",
        "print(\"===============\")\n",
        "print(\"Jumlah Missing Value pada dataset users:\\n\",users.isnull().sum()) ##Gapake dataset ini karena kebanyakan data missing value"
      ]
    },
    {
      "cell_type": "markdown",
      "source": [
        "Pada kode diatas dijalankan untuk mencari tahu jumlah nilai kosong yang ada pada masing-masing dataset, dari hasil penjalan kode tersebut disimpulkan bahwa:\n",
        "1. Pada dataset 'books.csv' sebanyak 3 baris yang menyimpan data kosong untuk nama penulis, nama penerbit, dan link gambar buku berukuran besar.\n",
        "2. Pada dataset 'ratings.csv' tidak terdapat nilai kosong.\n",
        "3. Pada dataset 'users.csv' sebanyak 110762 baris yang menyimpan data kosong untuk data umur pengguna.\n",
        "\n",
        "Dikarenakan dataset yang akan dipakai untuk pengembangan model yaitu 'books.csv' hanya akan dilakukan pembersihan data yang kosong untuk dataset 'books.csv' saja."
      ],
      "metadata": {
        "id": "MF_sKBcFu9IE"
      }
    },
    {
      "cell_type": "code",
      "execution_count": null,
      "metadata": {
        "id": "FtzK09kVaJN5",
        "colab": {
          "base_uri": "https://localhost:8080/"
        },
        "outputId": "86462a6c-5ec1-4f8f-9963-e91516f4971c"
      },
      "outputs": [
        {
          "output_type": "stream",
          "name": "stdout",
          "text": [
            "Jumlah Missing Value pada dataset books:\n",
            " ISBN         0\n",
            "Title        0\n",
            "Author       0\n",
            "Year         0\n",
            "Publisher    0\n",
            "Image_S      0\n",
            "Image_M      0\n",
            "Image_L      0\n",
            "dtype: int64\n"
          ]
        }
      ],
      "source": [
        "books.dropna(inplace=True)\n",
        "print(\"Jumlah Missing Value pada dataset books:\\n\",books.isnull().sum())"
      ]
    },
    {
      "cell_type": "markdown",
      "source": [
        "Pada kode diatas digunakan untuk menghapus data yang menyimpan nilai kosong pada dataset 'books.csv', dari hasil penjalanan kode didapati hasil bahwa seluruh data yang menyimpan nilai kosong telah dihapus dan sudah bersih dari nilai kosong."
      ],
      "metadata": {
        "id": "m_stwSTm_A1v"
      }
    },
    {
      "cell_type": "markdown",
      "source": [
        "### Penanganan Nilai Duplikat"
      ],
      "metadata": {
        "id": "l2yfsSFnw6r8"
      }
    },
    {
      "cell_type": "code",
      "execution_count": null,
      "metadata": {
        "id": "ZE8GAfWMSGLL",
        "colab": {
          "base_uri": "https://localhost:8080/"
        },
        "outputId": "29545ee3-cc39-4a3c-a8d7-d8709927fbab"
      },
      "outputs": [
        {
          "output_type": "stream",
          "name": "stdout",
          "text": [
            "Jumlah data duplikat pada dataset books: 0\n",
            "Jumlah data duplikat pada dataset ratings: 0\n",
            "Jumlah data duplikat pada dataset users: 0\n"
          ]
        }
      ],
      "source": [
        "print(\"Jumlah data duplikat pada dataset books:\",books.duplicated().sum())\n",
        "print(\"Jumlah data duplikat pada dataset ratings:\",ratings.duplicated().sum())\n",
        "print(\"Jumlah data duplikat pada dataset users:\",users.duplicated().sum())"
      ]
    },
    {
      "cell_type": "markdown",
      "source": [
        "Pada kode diatas digunakan untuk mencari tahu apakah terdapat data yang terduplikat pada dataset. Dari hasil penjalanan kode tersebut didapati hasil bahwa ketiga dataset tidak terdapat data duplikat sehingga bisa diasumsikan bahwa seluruh dataset tersebut aman dari duplikasi data."
      ],
      "metadata": {
        "id": "wpVIKcsqvbnU"
      }
    },
    {
      "cell_type": "markdown",
      "source": [
        "## Transformasi Data"
      ],
      "metadata": {
        "id": "Sj_q2t0d_P3m"
      }
    },
    {
      "cell_type": "code",
      "execution_count": null,
      "metadata": {
        "id": "m3ElUhlUV5y5",
        "colab": {
          "base_uri": "https://localhost:8080/"
        },
        "outputId": "f47b862e-24a2-4c45-e9f3-ad4606a99074"
      },
      "outputs": [
        {
          "output_type": "execute_result",
          "data": {
            "text/plain": [
              "(266430, 8)"
            ]
          },
          "metadata": {},
          "execution_count": 21
        }
      ],
      "source": [
        "books.shape"
      ]
    },
    {
      "cell_type": "markdown",
      "source": [
        "Pada kode diatas, digunakan untuk meiihat jumlah baris dan kolom yang tersisa setelah proses pembersihan dataset. Dari kode diatas, diberitahukan bahwa tersisa 266430 baris data setelah pembersihan dan terdapat 8 kolom yang masih tersimpan pada dataset 'books.csv'."
      ],
      "metadata": {
        "id": "MwNvir3c_D9w"
      }
    },
    {
      "cell_type": "code",
      "execution_count": null,
      "metadata": {
        "id": "VXtKh-AMco3j",
        "colab": {
          "base_uri": "https://localhost:8080/"
        },
        "outputId": "c51e38b5-bb63-4b11-ec67-a39dbe30b1f2"
      },
      "outputs": [
        {
          "output_type": "stream",
          "name": "stdout",
          "text": [
            "<class 'pandas.core.frame.DataFrame'>\n",
            "Index: 30000 entries, 0 to 30531\n",
            "Data columns (total 8 columns):\n",
            " #   Column     Non-Null Count  Dtype \n",
            "---  ------     --------------  ----- \n",
            " 0   ISBN       30000 non-null  object\n",
            " 1   Title      30000 non-null  object\n",
            " 2   Author     30000 non-null  object\n",
            " 3   Year       30000 non-null  int64 \n",
            " 4   Publisher  30000 non-null  object\n",
            " 5   Image_S    30000 non-null  object\n",
            " 6   Image_M    30000 non-null  object\n",
            " 7   Image_L    30000 non-null  object\n",
            "dtypes: int64(1), object(7)\n",
            "memory usage: 2.1+ MB\n"
          ]
        }
      ],
      "source": [
        "books = books[:30000]\n",
        "books.info()"
      ]
    },
    {
      "cell_type": "markdown",
      "source": [
        "Pada kode diatas digunakan untuk menyimpan jumlah baris dataset 'books.csv' sebanyak 30.000 baris, hal ini dikarenakan jumlah data pada dataset 'books.csv' cukup banyak sehingga alokasi memori RAM tidak cukup untuk memproses seluruh data."
      ],
      "metadata": {
        "id": "UIcGPPOv_gAQ"
      }
    },
    {
      "cell_type": "code",
      "execution_count": null,
      "metadata": {
        "id": "Qg5Ygfo9eDY4"
      },
      "outputs": [],
      "source": [
        "# Membuat menjadi list\n",
        "isbn = books['ISBN'].tolist()\n",
        "title = books['Title'].tolist()\n",
        "author = books['Author'].tolist()\n",
        "year = books['Year'].tolist()\n",
        "publisher = books['Publisher'].tolist()\n",
        "image_s = books['Image_S'].tolist()\n",
        "image_m = books['Image_M'].tolist()\n",
        "image_l = books['Image_L'].tolist()"
      ]
    },
    {
      "cell_type": "markdown",
      "source": [
        "Pada kode diatas, selanjutnya mengonversi format semua kolom dataset yang tersimpan menjadi bentuk list agar data bisa dipakai saat pengembangan model sistem rekomendasi buku."
      ],
      "metadata": {
        "id": "fOIQ8DOI_2Go"
      }
    },
    {
      "cell_type": "code",
      "execution_count": null,
      "metadata": {
        "id": "9dWQKwbzeYVc",
        "colab": {
          "base_uri": "https://localhost:8080/",
          "height": 417
        },
        "outputId": "f233cdf2-3272-46dc-cddc-c7780c7ca7b2"
      },
      "outputs": [
        {
          "output_type": "execute_result",
          "data": {
            "text/plain": [
              "         isbn                                              title  \\\n",
              "0  0195153448                                Classical Mythology   \n",
              "1  0002005018                                       Clara Callan   \n",
              "2  0060973129                               Decision in Normandy   \n",
              "3  0374157065  Flu: The Story of the Great Influenza Pandemic...   \n",
              "4  0393045218                             The Mummies of Urumchi   \n",
              "\n",
              "                 author  year                   publisher  \\\n",
              "0    Mark P. O. Morford  2002     Oxford University Press   \n",
              "1  Richard Bruce Wright  2001       HarperFlamingo Canada   \n",
              "2          Carlo D'Este  1991             HarperPerennial   \n",
              "3      Gina Bari Kolata  1999        Farrar Straus Giroux   \n",
              "4       E. J. W. Barber  1999  W. W. Norton &amp; Company   \n",
              "\n",
              "                                             image_s  \\\n",
              "0  http://images.amazon.com/images/P/0195153448.0...   \n",
              "1  http://images.amazon.com/images/P/0002005018.0...   \n",
              "2  http://images.amazon.com/images/P/0060973129.0...   \n",
              "3  http://images.amazon.com/images/P/0374157065.0...   \n",
              "4  http://images.amazon.com/images/P/0393045218.0...   \n",
              "\n",
              "                                             image_m  \\\n",
              "0  http://images.amazon.com/images/P/0195153448.0...   \n",
              "1  http://images.amazon.com/images/P/0002005018.0...   \n",
              "2  http://images.amazon.com/images/P/0060973129.0...   \n",
              "3  http://images.amazon.com/images/P/0374157065.0...   \n",
              "4  http://images.amazon.com/images/P/0393045218.0...   \n",
              "\n",
              "                                             image_l  \n",
              "0  http://images.amazon.com/images/P/0195153448.0...  \n",
              "1  http://images.amazon.com/images/P/0002005018.0...  \n",
              "2  http://images.amazon.com/images/P/0060973129.0...  \n",
              "3  http://images.amazon.com/images/P/0374157065.0...  \n",
              "4  http://images.amazon.com/images/P/0393045218.0...  "
            ],
            "text/html": [
              "\n",
              "  <div id=\"df-c37b408f-2410-4d7d-8fab-8e4e4f2096eb\" class=\"colab-df-container\">\n",
              "    <div>\n",
              "<style scoped>\n",
              "    .dataframe tbody tr th:only-of-type {\n",
              "        vertical-align: middle;\n",
              "    }\n",
              "\n",
              "    .dataframe tbody tr th {\n",
              "        vertical-align: top;\n",
              "    }\n",
              "\n",
              "    .dataframe thead th {\n",
              "        text-align: right;\n",
              "    }\n",
              "</style>\n",
              "<table border=\"1\" class=\"dataframe\">\n",
              "  <thead>\n",
              "    <tr style=\"text-align: right;\">\n",
              "      <th></th>\n",
              "      <th>isbn</th>\n",
              "      <th>title</th>\n",
              "      <th>author</th>\n",
              "      <th>year</th>\n",
              "      <th>publisher</th>\n",
              "      <th>image_s</th>\n",
              "      <th>image_m</th>\n",
              "      <th>image_l</th>\n",
              "    </tr>\n",
              "  </thead>\n",
              "  <tbody>\n",
              "    <tr>\n",
              "      <th>0</th>\n",
              "      <td>0195153448</td>\n",
              "      <td>Classical Mythology</td>\n",
              "      <td>Mark P. O. Morford</td>\n",
              "      <td>2002</td>\n",
              "      <td>Oxford University Press</td>\n",
              "      <td>http://images.amazon.com/images/P/0195153448.0...</td>\n",
              "      <td>http://images.amazon.com/images/P/0195153448.0...</td>\n",
              "      <td>http://images.amazon.com/images/P/0195153448.0...</td>\n",
              "    </tr>\n",
              "    <tr>\n",
              "      <th>1</th>\n",
              "      <td>0002005018</td>\n",
              "      <td>Clara Callan</td>\n",
              "      <td>Richard Bruce Wright</td>\n",
              "      <td>2001</td>\n",
              "      <td>HarperFlamingo Canada</td>\n",
              "      <td>http://images.amazon.com/images/P/0002005018.0...</td>\n",
              "      <td>http://images.amazon.com/images/P/0002005018.0...</td>\n",
              "      <td>http://images.amazon.com/images/P/0002005018.0...</td>\n",
              "    </tr>\n",
              "    <tr>\n",
              "      <th>2</th>\n",
              "      <td>0060973129</td>\n",
              "      <td>Decision in Normandy</td>\n",
              "      <td>Carlo D'Este</td>\n",
              "      <td>1991</td>\n",
              "      <td>HarperPerennial</td>\n",
              "      <td>http://images.amazon.com/images/P/0060973129.0...</td>\n",
              "      <td>http://images.amazon.com/images/P/0060973129.0...</td>\n",
              "      <td>http://images.amazon.com/images/P/0060973129.0...</td>\n",
              "    </tr>\n",
              "    <tr>\n",
              "      <th>3</th>\n",
              "      <td>0374157065</td>\n",
              "      <td>Flu: The Story of the Great Influenza Pandemic...</td>\n",
              "      <td>Gina Bari Kolata</td>\n",
              "      <td>1999</td>\n",
              "      <td>Farrar Straus Giroux</td>\n",
              "      <td>http://images.amazon.com/images/P/0374157065.0...</td>\n",
              "      <td>http://images.amazon.com/images/P/0374157065.0...</td>\n",
              "      <td>http://images.amazon.com/images/P/0374157065.0...</td>\n",
              "    </tr>\n",
              "    <tr>\n",
              "      <th>4</th>\n",
              "      <td>0393045218</td>\n",
              "      <td>The Mummies of Urumchi</td>\n",
              "      <td>E. J. W. Barber</td>\n",
              "      <td>1999</td>\n",
              "      <td>W. W. Norton &amp;amp; Company</td>\n",
              "      <td>http://images.amazon.com/images/P/0393045218.0...</td>\n",
              "      <td>http://images.amazon.com/images/P/0393045218.0...</td>\n",
              "      <td>http://images.amazon.com/images/P/0393045218.0...</td>\n",
              "    </tr>\n",
              "  </tbody>\n",
              "</table>\n",
              "</div>\n",
              "    <div class=\"colab-df-buttons\">\n",
              "\n",
              "  <div class=\"colab-df-container\">\n",
              "    <button class=\"colab-df-convert\" onclick=\"convertToInteractive('df-c37b408f-2410-4d7d-8fab-8e4e4f2096eb')\"\n",
              "            title=\"Convert this dataframe to an interactive table.\"\n",
              "            style=\"display:none;\">\n",
              "\n",
              "  <svg xmlns=\"http://www.w3.org/2000/svg\" height=\"24px\" viewBox=\"0 -960 960 960\">\n",
              "    <path d=\"M120-120v-720h720v720H120Zm60-500h600v-160H180v160Zm220 220h160v-160H400v160Zm0 220h160v-160H400v160ZM180-400h160v-160H180v160Zm440 0h160v-160H620v160ZM180-180h160v-160H180v160Zm440 0h160v-160H620v160Z\"/>\n",
              "  </svg>\n",
              "    </button>\n",
              "\n",
              "  <style>\n",
              "    .colab-df-container {\n",
              "      display:flex;\n",
              "      gap: 12px;\n",
              "    }\n",
              "\n",
              "    .colab-df-convert {\n",
              "      background-color: #E8F0FE;\n",
              "      border: none;\n",
              "      border-radius: 50%;\n",
              "      cursor: pointer;\n",
              "      display: none;\n",
              "      fill: #1967D2;\n",
              "      height: 32px;\n",
              "      padding: 0 0 0 0;\n",
              "      width: 32px;\n",
              "    }\n",
              "\n",
              "    .colab-df-convert:hover {\n",
              "      background-color: #E2EBFA;\n",
              "      box-shadow: 0px 1px 2px rgba(60, 64, 67, 0.3), 0px 1px 3px 1px rgba(60, 64, 67, 0.15);\n",
              "      fill: #174EA6;\n",
              "    }\n",
              "\n",
              "    .colab-df-buttons div {\n",
              "      margin-bottom: 4px;\n",
              "    }\n",
              "\n",
              "    [theme=dark] .colab-df-convert {\n",
              "      background-color: #3B4455;\n",
              "      fill: #D2E3FC;\n",
              "    }\n",
              "\n",
              "    [theme=dark] .colab-df-convert:hover {\n",
              "      background-color: #434B5C;\n",
              "      box-shadow: 0px 1px 3px 1px rgba(0, 0, 0, 0.15);\n",
              "      filter: drop-shadow(0px 1px 2px rgba(0, 0, 0, 0.3));\n",
              "      fill: #FFFFFF;\n",
              "    }\n",
              "  </style>\n",
              "\n",
              "    <script>\n",
              "      const buttonEl =\n",
              "        document.querySelector('#df-c37b408f-2410-4d7d-8fab-8e4e4f2096eb button.colab-df-convert');\n",
              "      buttonEl.style.display =\n",
              "        google.colab.kernel.accessAllowed ? 'block' : 'none';\n",
              "\n",
              "      async function convertToInteractive(key) {\n",
              "        const element = document.querySelector('#df-c37b408f-2410-4d7d-8fab-8e4e4f2096eb');\n",
              "        const dataTable =\n",
              "          await google.colab.kernel.invokeFunction('convertToInteractive',\n",
              "                                                    [key], {});\n",
              "        if (!dataTable) return;\n",
              "\n",
              "        const docLinkHtml = 'Like what you see? Visit the ' +\n",
              "          '<a target=\"_blank\" href=https://colab.research.google.com/notebooks/data_table.ipynb>data table notebook</a>'\n",
              "          + ' to learn more about interactive tables.';\n",
              "        element.innerHTML = '';\n",
              "        dataTable['output_type'] = 'display_data';\n",
              "        await google.colab.output.renderOutput(dataTable, element);\n",
              "        const docLink = document.createElement('div');\n",
              "        docLink.innerHTML = docLinkHtml;\n",
              "        element.appendChild(docLink);\n",
              "      }\n",
              "    </script>\n",
              "  </div>\n",
              "\n",
              "\n",
              "    <div id=\"df-378f40e8-6cb7-4047-a703-d307fe30aa2f\">\n",
              "      <button class=\"colab-df-quickchart\" onclick=\"quickchart('df-378f40e8-6cb7-4047-a703-d307fe30aa2f')\"\n",
              "                title=\"Suggest charts\"\n",
              "                style=\"display:none;\">\n",
              "\n",
              "<svg xmlns=\"http://www.w3.org/2000/svg\" height=\"24px\"viewBox=\"0 0 24 24\"\n",
              "     width=\"24px\">\n",
              "    <g>\n",
              "        <path d=\"M19 3H5c-1.1 0-2 .9-2 2v14c0 1.1.9 2 2 2h14c1.1 0 2-.9 2-2V5c0-1.1-.9-2-2-2zM9 17H7v-7h2v7zm4 0h-2V7h2v10zm4 0h-2v-4h2v4z\"/>\n",
              "    </g>\n",
              "</svg>\n",
              "      </button>\n",
              "\n",
              "<style>\n",
              "  .colab-df-quickchart {\n",
              "      --bg-color: #E8F0FE;\n",
              "      --fill-color: #1967D2;\n",
              "      --hover-bg-color: #E2EBFA;\n",
              "      --hover-fill-color: #174EA6;\n",
              "      --disabled-fill-color: #AAA;\n",
              "      --disabled-bg-color: #DDD;\n",
              "  }\n",
              "\n",
              "  [theme=dark] .colab-df-quickchart {\n",
              "      --bg-color: #3B4455;\n",
              "      --fill-color: #D2E3FC;\n",
              "      --hover-bg-color: #434B5C;\n",
              "      --hover-fill-color: #FFFFFF;\n",
              "      --disabled-bg-color: #3B4455;\n",
              "      --disabled-fill-color: #666;\n",
              "  }\n",
              "\n",
              "  .colab-df-quickchart {\n",
              "    background-color: var(--bg-color);\n",
              "    border: none;\n",
              "    border-radius: 50%;\n",
              "    cursor: pointer;\n",
              "    display: none;\n",
              "    fill: var(--fill-color);\n",
              "    height: 32px;\n",
              "    padding: 0;\n",
              "    width: 32px;\n",
              "  }\n",
              "\n",
              "  .colab-df-quickchart:hover {\n",
              "    background-color: var(--hover-bg-color);\n",
              "    box-shadow: 0 1px 2px rgba(60, 64, 67, 0.3), 0 1px 3px 1px rgba(60, 64, 67, 0.15);\n",
              "    fill: var(--button-hover-fill-color);\n",
              "  }\n",
              "\n",
              "  .colab-df-quickchart-complete:disabled,\n",
              "  .colab-df-quickchart-complete:disabled:hover {\n",
              "    background-color: var(--disabled-bg-color);\n",
              "    fill: var(--disabled-fill-color);\n",
              "    box-shadow: none;\n",
              "  }\n",
              "\n",
              "  .colab-df-spinner {\n",
              "    border: 2px solid var(--fill-color);\n",
              "    border-color: transparent;\n",
              "    border-bottom-color: var(--fill-color);\n",
              "    animation:\n",
              "      spin 1s steps(1) infinite;\n",
              "  }\n",
              "\n",
              "  @keyframes spin {\n",
              "    0% {\n",
              "      border-color: transparent;\n",
              "      border-bottom-color: var(--fill-color);\n",
              "      border-left-color: var(--fill-color);\n",
              "    }\n",
              "    20% {\n",
              "      border-color: transparent;\n",
              "      border-left-color: var(--fill-color);\n",
              "      border-top-color: var(--fill-color);\n",
              "    }\n",
              "    30% {\n",
              "      border-color: transparent;\n",
              "      border-left-color: var(--fill-color);\n",
              "      border-top-color: var(--fill-color);\n",
              "      border-right-color: var(--fill-color);\n",
              "    }\n",
              "    40% {\n",
              "      border-color: transparent;\n",
              "      border-right-color: var(--fill-color);\n",
              "      border-top-color: var(--fill-color);\n",
              "    }\n",
              "    60% {\n",
              "      border-color: transparent;\n",
              "      border-right-color: var(--fill-color);\n",
              "    }\n",
              "    80% {\n",
              "      border-color: transparent;\n",
              "      border-right-color: var(--fill-color);\n",
              "      border-bottom-color: var(--fill-color);\n",
              "    }\n",
              "    90% {\n",
              "      border-color: transparent;\n",
              "      border-bottom-color: var(--fill-color);\n",
              "    }\n",
              "  }\n",
              "</style>\n",
              "\n",
              "      <script>\n",
              "        async function quickchart(key) {\n",
              "          const quickchartButtonEl =\n",
              "            document.querySelector('#' + key + ' button');\n",
              "          quickchartButtonEl.disabled = true;  // To prevent multiple clicks.\n",
              "          quickchartButtonEl.classList.add('colab-df-spinner');\n",
              "          try {\n",
              "            const charts = await google.colab.kernel.invokeFunction(\n",
              "                'suggestCharts', [key], {});\n",
              "          } catch (error) {\n",
              "            console.error('Error during call to suggestCharts:', error);\n",
              "          }\n",
              "          quickchartButtonEl.classList.remove('colab-df-spinner');\n",
              "          quickchartButtonEl.classList.add('colab-df-quickchart-complete');\n",
              "        }\n",
              "        (() => {\n",
              "          let quickchartButtonEl =\n",
              "            document.querySelector('#df-378f40e8-6cb7-4047-a703-d307fe30aa2f button');\n",
              "          quickchartButtonEl.style.display =\n",
              "            google.colab.kernel.accessAllowed ? 'block' : 'none';\n",
              "        })();\n",
              "      </script>\n",
              "    </div>\n",
              "\n",
              "    </div>\n",
              "  </div>\n"
            ],
            "application/vnd.google.colaboratory.intrinsic+json": {
              "type": "dataframe",
              "variable_name": "books",
              "summary": "{\n  \"name\": \"books\",\n  \"rows\": 30000,\n  \"fields\": [\n    {\n      \"column\": \"isbn\",\n      \"properties\": {\n        \"dtype\": \"string\",\n        \"num_unique_values\": 30000,\n        \"samples\": [\n          \"0425173755\",\n          \"0452277698\",\n          \"0590453874\"\n        ],\n        \"semantic_type\": \"\",\n        \"description\": \"\"\n      }\n    },\n    {\n      \"column\": \"title\",\n      \"properties\": {\n        \"dtype\": \"string\",\n        \"num_unique_values\": 27958,\n        \"samples\": [\n          \"The Death of an Irish Sinner : A Peter McGarr Mystery (Peter McGarr Mysteries (Paperback))\",\n          \"BOOK OF MASSAGE : The Complete Stepbystep Guide To Eastern And Western Technique\",\n          \"The I-5 Killer (Signet True Crime S.)\"\n        ],\n        \"semantic_type\": \"\",\n        \"description\": \"\"\n      }\n    },\n    {\n      \"column\": \"author\",\n      \"properties\": {\n        \"dtype\": \"category\",\n        \"num_unique_values\": 14750,\n        \"samples\": [\n          \"Jim Craddock\",\n          \"Alain de Botton\",\n          \"Jo Ray McCuen\"\n        ],\n        \"semantic_type\": \"\",\n        \"description\": \"\"\n      }\n    },\n    {\n      \"column\": \"year\",\n      \"properties\": {\n        \"dtype\": \"number\",\n        \"std\": 7,\n        \"min\": 1950,\n        \"max\": 2020,\n        \"num_unique_values\": 58,\n        \"samples\": [\n          2002,\n          1993,\n          1977\n        ],\n        \"semantic_type\": \"\",\n        \"description\": \"\"\n      }\n    },\n    {\n      \"column\": \"publisher\",\n      \"properties\": {\n        \"dtype\": \"category\",\n        \"num_unique_values\": 3467,\n        \"samples\": [\n          \"Guilford Publications\",\n          \"Heyne GmbH &amp; Co. KG, Verlag\",\n          \"Chronicle Books\"\n        ],\n        \"semantic_type\": \"\",\n        \"description\": \"\"\n      }\n    },\n    {\n      \"column\": \"image_s\",\n      \"properties\": {\n        \"dtype\": \"string\",\n        \"num_unique_values\": 29989,\n        \"samples\": [\n          \"http://images.amazon.com/images/P/0451405498.01.THUMBZZZ.jpg\",\n          \"http://images.amazon.com/images/P/0380804743.01.THUMBZZZ.jpg\",\n          \"http://images.amazon.com/images/P/1880032074.01.THUMBZZZ.jpg\"\n        ],\n        \"semantic_type\": \"\",\n        \"description\": \"\"\n      }\n    },\n    {\n      \"column\": \"image_m\",\n      \"properties\": {\n        \"dtype\": \"string\",\n        \"num_unique_values\": 29989,\n        \"samples\": [\n          \"http://images.amazon.com/images/P/0451405498.01.MZZZZZZZ.jpg\",\n          \"http://images.amazon.com/images/P/0380804743.01.MZZZZZZZ.jpg\",\n          \"http://images.amazon.com/images/P/1880032074.01.MZZZZZZZ.jpg\"\n        ],\n        \"semantic_type\": \"\",\n        \"description\": \"\"\n      }\n    },\n    {\n      \"column\": \"image_l\",\n      \"properties\": {\n        \"dtype\": \"string\",\n        \"num_unique_values\": 29989,\n        \"samples\": [\n          \"http://images.amazon.com/images/P/0451405498.01.LZZZZZZZ.jpg\",\n          \"http://images.amazon.com/images/P/0380804743.01.LZZZZZZZ.jpg\",\n          \"http://images.amazon.com/images/P/1880032074.01.LZZZZZZZ.jpg\"\n        ],\n        \"semantic_type\": \"\",\n        \"description\": \"\"\n      }\n    }\n  ]\n}"
            }
          },
          "metadata": {},
          "execution_count": 24
        }
      ],
      "source": [
        "# Membuat menjadi dictionary\n",
        "books = pd.DataFrame({\n",
        "    'isbn': isbn,\n",
        "    'title': title,\n",
        "    'author': author,\n",
        "    'year': year,\n",
        "    'publisher': publisher,\n",
        "    'image_s': image_s,\n",
        "    'image_m': image_m,\n",
        "    'image_l': image_l,\n",
        "})\n",
        "books.head(5)"
      ]
    },
    {
      "cell_type": "markdown",
      "source": [
        "Setelah dibuatkan menjadi bentuk list, tahap selanjutnya adalah  membuat dictionary untuk menentukan pasangan key-value pada dataset 'books.csv'"
      ],
      "metadata": {
        "id": "vs3ECUp3APN3"
      }
    },
    {
      "cell_type": "markdown",
      "metadata": {
        "id": "Ui1gwTU_Z5Z7"
      },
      "source": [
        "# Model Development\n",
        "\n",
        "Setelah data yang digunakan telah selesai untuk dibersihkan dan bisa dipakai, selanjutnya adalah pengembangan model machine learning dengan pendekatan Content-Based Filtering untuk membuat sistem rekomendasi buku berdasarkan buku dengan penulis (author) yang sama menggunakan library TfIdVectorizer dan Cosine Similarity.\n",
        "\n",
        "Penjelasan pendekatan Content-Based Filtering:\n",
        "\n",
        "**Cara kerja:**\n",
        "\n",
        "1. Ekstraksi Fitur: Sistem mengekstrak fitur dari item, seperti penulis, genre, kata kunci, deskripsi, dll.\n",
        "\n",
        "2. Representasi Vektor: Fitur-fitur tersebut dikonversi menjadi bentuk numerik, biasanya menggunakan metode seperti TF-IDF atau word embeddings.\n",
        "\n",
        "3. Perhitungan Kemiripan: Sistem menghitung kemiripan antara item menggunakan metrik seperti cosine similarity.\n",
        "\n",
        "4. Rekomendasi: Sistem merekomendasikan item lain yang paling mirip dengan item yang pernah disukai oleh pengguna.\n",
        "\n",
        "**Kelebihan :**\n",
        "1. Tidak tergantung data pengguna lain: Sistem dapat bekerja dengan baik meskipun hanya ada sedikit pengguna (cocok untuk cold-start user).\n",
        "\n",
        "2. Personalized: Rekomendasi sangat sesuai dengan preferensi individu karena berdasarkan riwayat pengguna itu sendiri.\n",
        "\n",
        "3. Transparansi: Lebih mudah menjelaskan alasan rekomendasi (\"buku ini direkomendasikan karena mirip dengan buku X yang Anda sukai\").\n",
        "\n",
        "**Kekurangan:**\n",
        "1. Kurang mampu memberikan keberagaman: Sistem cenderung merekomendasikan item yang sangat mirip, sehingga bisa membatasi eksplorasi.\n",
        "\n",
        "2. Terbatas pada fitur item: Jika fitur kurang informatif atau tidak lengkap, kualitas rekomendasi akan menurun.\n",
        "\n",
        "3. Cold-start item: Tidak dapat merekomendasikan item baru jika belum memiliki informasi kontennya."
      ]
    },
    {
      "cell_type": "code",
      "execution_count": null,
      "metadata": {
        "id": "PhXXyXJcfwMm",
        "colab": {
          "base_uri": "https://localhost:8080/"
        },
        "outputId": "0dbb4370-3560-49b8-8c1f-6b375e30e179"
      },
      "outputs": [
        {
          "output_type": "execute_result",
          "data": {
            "text/plain": [
              "array(['aa', 'aaron', 'aarsen', ..., 'â¼scher', 'â¼skind', 'â¼ter'],\n",
              "      dtype=object)"
            ]
          },
          "metadata": {},
          "execution_count": 25
        }
      ],
      "source": [
        "from sklearn.feature_extraction.text import TfidfVectorizer\n",
        "\n",
        "# Inisialisasi TfidfVectorizer\n",
        "tf = TfidfVectorizer()\n",
        "\n",
        "# Melakukan perhitungan idf pada data author\n",
        "tf.fit(books['author'])\n",
        "tf.get_feature_names_out()"
      ]
    },
    {
      "cell_type": "markdown",
      "source": [
        "Pada kode di atas menggunakan library TfidfVectorizer untuk mengubah data teks pada kolom author menjadi representasi numerik berbasis TF-IDF. Langkah ini dilakukan untuk menghitung seberapa penting kata (dalam hal ini nama penulis) dalam kumpulan data. Fungsi fit() digunakan untuk mempelajari skor IDF dari data penulis, sementara get_feature_names_out() digunakan untuk menampilkan daftar nama penulis yang telah diproses menjadi fitur."
      ],
      "metadata": {
        "id": "Rig6pMxOCQY5"
      }
    },
    {
      "cell_type": "code",
      "execution_count": null,
      "metadata": {
        "id": "ClbN7vUGlpt1",
        "colab": {
          "base_uri": "https://localhost:8080/"
        },
        "outputId": "83a1d005-55a7-47f7-ef9e-f015243f15bf"
      },
      "outputs": [
        {
          "output_type": "execute_result",
          "data": {
            "text/plain": [
              "(30000, 11436)"
            ]
          },
          "metadata": {},
          "execution_count": 26
        }
      ],
      "source": [
        "# Melakukan fit lalu ditransformasikan ke bentuk matrix\n",
        "tfidf_matrix = tf.fit_transform(books['author'])\n",
        "# Melihat ukuran matrix tfidf\n",
        "tfidf_matrix.shape"
      ]
    },
    {
      "cell_type": "markdown",
      "source": [
        "Pada kode diatas digunakan untuk melakukan transformasi data teks pada kolom author menjadi matriks numerik menggunakan metode TF-IDF. Fungsi fit_transform() digunakan untuk menghitung bobot TF-IDF dari setiap nama penulis dan mengubahnya menjadi matriks vektor fitur. Hasilnya disimpan dalam variabel tfidf_matrix. Kemudian, tfidf_matrix.shape digunakan untuk melihat ukuran matriks, yang menunjukkan jumlah buku dan jumlah fitur unik  yang dihasilkan dari nama-nama penulis yang nantinya akan digunakan dalam proses perhitungan kesamaan antar buku untuk sistem rekomendasi berbasis konten."
      ],
      "metadata": {
        "id": "-gmWN_dpDJHP"
      }
    },
    {
      "cell_type": "code",
      "execution_count": null,
      "metadata": {
        "id": "W8oug_I-ls8r",
        "colab": {
          "base_uri": "https://localhost:8080/"
        },
        "outputId": "ff20b210-495d-41a3-b009-a2a7d7db4b75"
      },
      "outputs": [
        {
          "output_type": "execute_result",
          "data": {
            "text/plain": [
              "matrix([[0., 0., 0., ..., 0., 0., 0.],\n",
              "        [0., 0., 0., ..., 0., 0., 0.],\n",
              "        [0., 0., 0., ..., 0., 0., 0.],\n",
              "        ...,\n",
              "        [0., 0., 0., ..., 0., 0., 0.],\n",
              "        [0., 0., 0., ..., 0., 0., 0.],\n",
              "        [0., 0., 0., ..., 0., 0., 0.]])"
            ]
          },
          "metadata": {},
          "execution_count": 27
        }
      ],
      "source": [
        "# Mengubah vektor tf-idf dalam bentuk matriks dengan fungsi todense()\n",
        "tfidf_matrix.todense()"
      ]
    },
    {
      "cell_type": "markdown",
      "source": [
        "Pada kode diatas, tfidf_matrix.todense() digunakan untuk mengubah hasil transformasi TF-IDF yang awalnya dalam bentuk sparse matrix menjadi dense matrix atau matriks penuh. Sparse matrix hanya menyimpan nilai yang bukan nol untuk menghemat memori."
      ],
      "metadata": {
        "id": "WGXK-gqADZ9u"
      }
    },
    {
      "cell_type": "code",
      "execution_count": null,
      "metadata": {
        "id": "fofaB9itlu-y",
        "colab": {
          "base_uri": "https://localhost:8080/",
          "height": 394
        },
        "outputId": "12ba1886-9dfa-4287-9c47-804a41b96571"
      },
      "outputs": [
        {
          "output_type": "execute_result",
          "data": {
            "text/plain": [
              "                                                    mcluhan  pascal  veronika  \\\n",
              "title                                                                           \n",
              "You Are Your Child's 1st Teacher                        0.0     0.0       0.0   \n",
              "North and South (North and South Trilogy, Book 1)       0.0     0.0       0.0   \n",
              "L'Ecriture ou la vie                                    0.0     0.0       0.0   \n",
              "Name Dropping : What If Two Very Different Wome...      0.0     0.0       0.0   \n",
              "A Wizard of Earthsea (Earthsea Trilogy, Book 1)         0.0     0.0       0.0   \n",
              "Robinson Crusoe (Dover Thrift Editions)                 0.0     0.0       0.0   \n",
              "ASP in a Nutshell, 2nd Edition                          0.0     0.0       0.0   \n",
              "Sesame Street: Little Elmo's Toy Box (Baby's fi...      0.0     0.0       0.0   \n",
              "A Night As Clear As Day                                 0.0     0.0       0.0   \n",
              "The World from Italy: Football, Food and Politics       0.0     0.0       0.0   \n",
              "\n",
              "                                                    achebe  haefs  jenny   di  \\\n",
              "title                                                                           \n",
              "You Are Your Child's 1st Teacher                       0.0    0.0    0.0  0.0   \n",
              "North and South (North and South Trilogy, Book 1)      0.0    0.0    0.0  0.0   \n",
              "L'Ecriture ou la vie                                   0.0    0.0    0.0  0.0   \n",
              "Name Dropping : What If Two Very Different Wome...     0.0    0.0    0.0  0.0   \n",
              "A Wizard of Earthsea (Earthsea Trilogy, Book 1)        0.0    0.0    0.0  0.0   \n",
              "Robinson Crusoe (Dover Thrift Editions)                0.0    0.0    0.0  0.0   \n",
              "ASP in a Nutshell, 2nd Edition                         0.0    0.0    0.0  0.0   \n",
              "Sesame Street: Little Elmo's Toy Box (Baby's fi...     0.0    0.0    0.0  0.0   \n",
              "A Night As Clear As Day                                0.0    0.0    0.0  0.0   \n",
              "The World from Italy: Football, Food and Politics      0.0    0.0    0.0  0.0   \n",
              "\n",
              "                                                    angell  lessard  banbury  \n",
              "title                                                                         \n",
              "You Are Your Child's 1st Teacher                       0.0      0.0      0.0  \n",
              "North and South (North and South Trilogy, Book 1)      0.0      0.0      0.0  \n",
              "L'Ecriture ou la vie                                   0.0      0.0      0.0  \n",
              "Name Dropping : What If Two Very Different Wome...     0.0      0.0      0.0  \n",
              "A Wizard of Earthsea (Earthsea Trilogy, Book 1)        0.0      0.0      0.0  \n",
              "Robinson Crusoe (Dover Thrift Editions)                0.0      0.0      0.0  \n",
              "ASP in a Nutshell, 2nd Edition                         0.0      0.0      0.0  \n",
              "Sesame Street: Little Elmo's Toy Box (Baby's fi...     0.0      0.0      0.0  \n",
              "A Night As Clear As Day                                0.0      0.0      0.0  \n",
              "The World from Italy: Football, Food and Politics      0.0      0.0      0.0  "
            ],
            "text/html": [
              "\n",
              "  <div id=\"df-63b6eb9c-f0f7-4c36-8038-5e11ce1d7450\" class=\"colab-df-container\">\n",
              "    <div>\n",
              "<style scoped>\n",
              "    .dataframe tbody tr th:only-of-type {\n",
              "        vertical-align: middle;\n",
              "    }\n",
              "\n",
              "    .dataframe tbody tr th {\n",
              "        vertical-align: top;\n",
              "    }\n",
              "\n",
              "    .dataframe thead th {\n",
              "        text-align: right;\n",
              "    }\n",
              "</style>\n",
              "<table border=\"1\" class=\"dataframe\">\n",
              "  <thead>\n",
              "    <tr style=\"text-align: right;\">\n",
              "      <th></th>\n",
              "      <th>mcluhan</th>\n",
              "      <th>pascal</th>\n",
              "      <th>veronika</th>\n",
              "      <th>achebe</th>\n",
              "      <th>haefs</th>\n",
              "      <th>jenny</th>\n",
              "      <th>di</th>\n",
              "      <th>angell</th>\n",
              "      <th>lessard</th>\n",
              "      <th>banbury</th>\n",
              "    </tr>\n",
              "    <tr>\n",
              "      <th>title</th>\n",
              "      <th></th>\n",
              "      <th></th>\n",
              "      <th></th>\n",
              "      <th></th>\n",
              "      <th></th>\n",
              "      <th></th>\n",
              "      <th></th>\n",
              "      <th></th>\n",
              "      <th></th>\n",
              "      <th></th>\n",
              "    </tr>\n",
              "  </thead>\n",
              "  <tbody>\n",
              "    <tr>\n",
              "      <th>You Are Your Child's 1st Teacher</th>\n",
              "      <td>0.0</td>\n",
              "      <td>0.0</td>\n",
              "      <td>0.0</td>\n",
              "      <td>0.0</td>\n",
              "      <td>0.0</td>\n",
              "      <td>0.0</td>\n",
              "      <td>0.0</td>\n",
              "      <td>0.0</td>\n",
              "      <td>0.0</td>\n",
              "      <td>0.0</td>\n",
              "    </tr>\n",
              "    <tr>\n",
              "      <th>North and South (North and South Trilogy, Book 1)</th>\n",
              "      <td>0.0</td>\n",
              "      <td>0.0</td>\n",
              "      <td>0.0</td>\n",
              "      <td>0.0</td>\n",
              "      <td>0.0</td>\n",
              "      <td>0.0</td>\n",
              "      <td>0.0</td>\n",
              "      <td>0.0</td>\n",
              "      <td>0.0</td>\n",
              "      <td>0.0</td>\n",
              "    </tr>\n",
              "    <tr>\n",
              "      <th>L'Ecriture ou la vie</th>\n",
              "      <td>0.0</td>\n",
              "      <td>0.0</td>\n",
              "      <td>0.0</td>\n",
              "      <td>0.0</td>\n",
              "      <td>0.0</td>\n",
              "      <td>0.0</td>\n",
              "      <td>0.0</td>\n",
              "      <td>0.0</td>\n",
              "      <td>0.0</td>\n",
              "      <td>0.0</td>\n",
              "    </tr>\n",
              "    <tr>\n",
              "      <th>Name Dropping : What If Two Very Different Women Had The Same Exact Name?</th>\n",
              "      <td>0.0</td>\n",
              "      <td>0.0</td>\n",
              "      <td>0.0</td>\n",
              "      <td>0.0</td>\n",
              "      <td>0.0</td>\n",
              "      <td>0.0</td>\n",
              "      <td>0.0</td>\n",
              "      <td>0.0</td>\n",
              "      <td>0.0</td>\n",
              "      <td>0.0</td>\n",
              "    </tr>\n",
              "    <tr>\n",
              "      <th>A Wizard of Earthsea (Earthsea Trilogy, Book 1)</th>\n",
              "      <td>0.0</td>\n",
              "      <td>0.0</td>\n",
              "      <td>0.0</td>\n",
              "      <td>0.0</td>\n",
              "      <td>0.0</td>\n",
              "      <td>0.0</td>\n",
              "      <td>0.0</td>\n",
              "      <td>0.0</td>\n",
              "      <td>0.0</td>\n",
              "      <td>0.0</td>\n",
              "    </tr>\n",
              "    <tr>\n",
              "      <th>Robinson Crusoe (Dover Thrift Editions)</th>\n",
              "      <td>0.0</td>\n",
              "      <td>0.0</td>\n",
              "      <td>0.0</td>\n",
              "      <td>0.0</td>\n",
              "      <td>0.0</td>\n",
              "      <td>0.0</td>\n",
              "      <td>0.0</td>\n",
              "      <td>0.0</td>\n",
              "      <td>0.0</td>\n",
              "      <td>0.0</td>\n",
              "    </tr>\n",
              "    <tr>\n",
              "      <th>ASP in a Nutshell, 2nd Edition</th>\n",
              "      <td>0.0</td>\n",
              "      <td>0.0</td>\n",
              "      <td>0.0</td>\n",
              "      <td>0.0</td>\n",
              "      <td>0.0</td>\n",
              "      <td>0.0</td>\n",
              "      <td>0.0</td>\n",
              "      <td>0.0</td>\n",
              "      <td>0.0</td>\n",
              "      <td>0.0</td>\n",
              "    </tr>\n",
              "    <tr>\n",
              "      <th>Sesame Street: Little Elmo's Toy Box (Baby's first book)</th>\n",
              "      <td>0.0</td>\n",
              "      <td>0.0</td>\n",
              "      <td>0.0</td>\n",
              "      <td>0.0</td>\n",
              "      <td>0.0</td>\n",
              "      <td>0.0</td>\n",
              "      <td>0.0</td>\n",
              "      <td>0.0</td>\n",
              "      <td>0.0</td>\n",
              "      <td>0.0</td>\n",
              "    </tr>\n",
              "    <tr>\n",
              "      <th>A Night As Clear As Day</th>\n",
              "      <td>0.0</td>\n",
              "      <td>0.0</td>\n",
              "      <td>0.0</td>\n",
              "      <td>0.0</td>\n",
              "      <td>0.0</td>\n",
              "      <td>0.0</td>\n",
              "      <td>0.0</td>\n",
              "      <td>0.0</td>\n",
              "      <td>0.0</td>\n",
              "      <td>0.0</td>\n",
              "    </tr>\n",
              "    <tr>\n",
              "      <th>The World from Italy: Football, Food and Politics</th>\n",
              "      <td>0.0</td>\n",
              "      <td>0.0</td>\n",
              "      <td>0.0</td>\n",
              "      <td>0.0</td>\n",
              "      <td>0.0</td>\n",
              "      <td>0.0</td>\n",
              "      <td>0.0</td>\n",
              "      <td>0.0</td>\n",
              "      <td>0.0</td>\n",
              "      <td>0.0</td>\n",
              "    </tr>\n",
              "  </tbody>\n",
              "</table>\n",
              "</div>\n",
              "    <div class=\"colab-df-buttons\">\n",
              "\n",
              "  <div class=\"colab-df-container\">\n",
              "    <button class=\"colab-df-convert\" onclick=\"convertToInteractive('df-63b6eb9c-f0f7-4c36-8038-5e11ce1d7450')\"\n",
              "            title=\"Convert this dataframe to an interactive table.\"\n",
              "            style=\"display:none;\">\n",
              "\n",
              "  <svg xmlns=\"http://www.w3.org/2000/svg\" height=\"24px\" viewBox=\"0 -960 960 960\">\n",
              "    <path d=\"M120-120v-720h720v720H120Zm60-500h600v-160H180v160Zm220 220h160v-160H400v160Zm0 220h160v-160H400v160ZM180-400h160v-160H180v160Zm440 0h160v-160H620v160ZM180-180h160v-160H180v160Zm440 0h160v-160H620v160Z\"/>\n",
              "  </svg>\n",
              "    </button>\n",
              "\n",
              "  <style>\n",
              "    .colab-df-container {\n",
              "      display:flex;\n",
              "      gap: 12px;\n",
              "    }\n",
              "\n",
              "    .colab-df-convert {\n",
              "      background-color: #E8F0FE;\n",
              "      border: none;\n",
              "      border-radius: 50%;\n",
              "      cursor: pointer;\n",
              "      display: none;\n",
              "      fill: #1967D2;\n",
              "      height: 32px;\n",
              "      padding: 0 0 0 0;\n",
              "      width: 32px;\n",
              "    }\n",
              "\n",
              "    .colab-df-convert:hover {\n",
              "      background-color: #E2EBFA;\n",
              "      box-shadow: 0px 1px 2px rgba(60, 64, 67, 0.3), 0px 1px 3px 1px rgba(60, 64, 67, 0.15);\n",
              "      fill: #174EA6;\n",
              "    }\n",
              "\n",
              "    .colab-df-buttons div {\n",
              "      margin-bottom: 4px;\n",
              "    }\n",
              "\n",
              "    [theme=dark] .colab-df-convert {\n",
              "      background-color: #3B4455;\n",
              "      fill: #D2E3FC;\n",
              "    }\n",
              "\n",
              "    [theme=dark] .colab-df-convert:hover {\n",
              "      background-color: #434B5C;\n",
              "      box-shadow: 0px 1px 3px 1px rgba(0, 0, 0, 0.15);\n",
              "      filter: drop-shadow(0px 1px 2px rgba(0, 0, 0, 0.3));\n",
              "      fill: #FFFFFF;\n",
              "    }\n",
              "  </style>\n",
              "\n",
              "    <script>\n",
              "      const buttonEl =\n",
              "        document.querySelector('#df-63b6eb9c-f0f7-4c36-8038-5e11ce1d7450 button.colab-df-convert');\n",
              "      buttonEl.style.display =\n",
              "        google.colab.kernel.accessAllowed ? 'block' : 'none';\n",
              "\n",
              "      async function convertToInteractive(key) {\n",
              "        const element = document.querySelector('#df-63b6eb9c-f0f7-4c36-8038-5e11ce1d7450');\n",
              "        const dataTable =\n",
              "          await google.colab.kernel.invokeFunction('convertToInteractive',\n",
              "                                                    [key], {});\n",
              "        if (!dataTable) return;\n",
              "\n",
              "        const docLinkHtml = 'Like what you see? Visit the ' +\n",
              "          '<a target=\"_blank\" href=https://colab.research.google.com/notebooks/data_table.ipynb>data table notebook</a>'\n",
              "          + ' to learn more about interactive tables.';\n",
              "        element.innerHTML = '';\n",
              "        dataTable['output_type'] = 'display_data';\n",
              "        await google.colab.output.renderOutput(dataTable, element);\n",
              "        const docLink = document.createElement('div');\n",
              "        docLink.innerHTML = docLinkHtml;\n",
              "        element.appendChild(docLink);\n",
              "      }\n",
              "    </script>\n",
              "  </div>\n",
              "\n",
              "\n",
              "    <div id=\"df-a869b45c-530e-4961-8163-892d16b63c91\">\n",
              "      <button class=\"colab-df-quickchart\" onclick=\"quickchart('df-a869b45c-530e-4961-8163-892d16b63c91')\"\n",
              "                title=\"Suggest charts\"\n",
              "                style=\"display:none;\">\n",
              "\n",
              "<svg xmlns=\"http://www.w3.org/2000/svg\" height=\"24px\"viewBox=\"0 0 24 24\"\n",
              "     width=\"24px\">\n",
              "    <g>\n",
              "        <path d=\"M19 3H5c-1.1 0-2 .9-2 2v14c0 1.1.9 2 2 2h14c1.1 0 2-.9 2-2V5c0-1.1-.9-2-2-2zM9 17H7v-7h2v7zm4 0h-2V7h2v10zm4 0h-2v-4h2v4z\"/>\n",
              "    </g>\n",
              "</svg>\n",
              "      </button>\n",
              "\n",
              "<style>\n",
              "  .colab-df-quickchart {\n",
              "      --bg-color: #E8F0FE;\n",
              "      --fill-color: #1967D2;\n",
              "      --hover-bg-color: #E2EBFA;\n",
              "      --hover-fill-color: #174EA6;\n",
              "      --disabled-fill-color: #AAA;\n",
              "      --disabled-bg-color: #DDD;\n",
              "  }\n",
              "\n",
              "  [theme=dark] .colab-df-quickchart {\n",
              "      --bg-color: #3B4455;\n",
              "      --fill-color: #D2E3FC;\n",
              "      --hover-bg-color: #434B5C;\n",
              "      --hover-fill-color: #FFFFFF;\n",
              "      --disabled-bg-color: #3B4455;\n",
              "      --disabled-fill-color: #666;\n",
              "  }\n",
              "\n",
              "  .colab-df-quickchart {\n",
              "    background-color: var(--bg-color);\n",
              "    border: none;\n",
              "    border-radius: 50%;\n",
              "    cursor: pointer;\n",
              "    display: none;\n",
              "    fill: var(--fill-color);\n",
              "    height: 32px;\n",
              "    padding: 0;\n",
              "    width: 32px;\n",
              "  }\n",
              "\n",
              "  .colab-df-quickchart:hover {\n",
              "    background-color: var(--hover-bg-color);\n",
              "    box-shadow: 0 1px 2px rgba(60, 64, 67, 0.3), 0 1px 3px 1px rgba(60, 64, 67, 0.15);\n",
              "    fill: var(--button-hover-fill-color);\n",
              "  }\n",
              "\n",
              "  .colab-df-quickchart-complete:disabled,\n",
              "  .colab-df-quickchart-complete:disabled:hover {\n",
              "    background-color: var(--disabled-bg-color);\n",
              "    fill: var(--disabled-fill-color);\n",
              "    box-shadow: none;\n",
              "  }\n",
              "\n",
              "  .colab-df-spinner {\n",
              "    border: 2px solid var(--fill-color);\n",
              "    border-color: transparent;\n",
              "    border-bottom-color: var(--fill-color);\n",
              "    animation:\n",
              "      spin 1s steps(1) infinite;\n",
              "  }\n",
              "\n",
              "  @keyframes spin {\n",
              "    0% {\n",
              "      border-color: transparent;\n",
              "      border-bottom-color: var(--fill-color);\n",
              "      border-left-color: var(--fill-color);\n",
              "    }\n",
              "    20% {\n",
              "      border-color: transparent;\n",
              "      border-left-color: var(--fill-color);\n",
              "      border-top-color: var(--fill-color);\n",
              "    }\n",
              "    30% {\n",
              "      border-color: transparent;\n",
              "      border-left-color: var(--fill-color);\n",
              "      border-top-color: var(--fill-color);\n",
              "      border-right-color: var(--fill-color);\n",
              "    }\n",
              "    40% {\n",
              "      border-color: transparent;\n",
              "      border-right-color: var(--fill-color);\n",
              "      border-top-color: var(--fill-color);\n",
              "    }\n",
              "    60% {\n",
              "      border-color: transparent;\n",
              "      border-right-color: var(--fill-color);\n",
              "    }\n",
              "    80% {\n",
              "      border-color: transparent;\n",
              "      border-right-color: var(--fill-color);\n",
              "      border-bottom-color: var(--fill-color);\n",
              "    }\n",
              "    90% {\n",
              "      border-color: transparent;\n",
              "      border-bottom-color: var(--fill-color);\n",
              "    }\n",
              "  }\n",
              "</style>\n",
              "\n",
              "      <script>\n",
              "        async function quickchart(key) {\n",
              "          const quickchartButtonEl =\n",
              "            document.querySelector('#' + key + ' button');\n",
              "          quickchartButtonEl.disabled = true;  // To prevent multiple clicks.\n",
              "          quickchartButtonEl.classList.add('colab-df-spinner');\n",
              "          try {\n",
              "            const charts = await google.colab.kernel.invokeFunction(\n",
              "                'suggestCharts', [key], {});\n",
              "          } catch (error) {\n",
              "            console.error('Error during call to suggestCharts:', error);\n",
              "          }\n",
              "          quickchartButtonEl.classList.remove('colab-df-spinner');\n",
              "          quickchartButtonEl.classList.add('colab-df-quickchart-complete');\n",
              "        }\n",
              "        (() => {\n",
              "          let quickchartButtonEl =\n",
              "            document.querySelector('#df-a869b45c-530e-4961-8163-892d16b63c91 button');\n",
              "          quickchartButtonEl.style.display =\n",
              "            google.colab.kernel.accessAllowed ? 'block' : 'none';\n",
              "        })();\n",
              "      </script>\n",
              "    </div>\n",
              "\n",
              "    </div>\n",
              "  </div>\n"
            ],
            "application/vnd.google.colaboratory.intrinsic+json": {
              "type": "dataframe",
              "summary": "{\n  \"name\": \")\",\n  \"rows\": 10,\n  \"fields\": [\n    {\n      \"column\": \"title\",\n      \"properties\": {\n        \"dtype\": \"string\",\n        \"num_unique_values\": 10,\n        \"samples\": [\n          \"A Night As Clear As Day\",\n          \"North and South (North and South Trilogy, Book 1)\",\n          \"Robinson Crusoe (Dover Thrift Editions)\"\n        ],\n        \"semantic_type\": \"\",\n        \"description\": \"\"\n      }\n    },\n    {\n      \"column\": \"mcluhan\",\n      \"properties\": {\n        \"dtype\": \"number\",\n        \"std\": 0.0,\n        \"min\": 0.0,\n        \"max\": 0.0,\n        \"num_unique_values\": 1,\n        \"samples\": [\n          0.0\n        ],\n        \"semantic_type\": \"\",\n        \"description\": \"\"\n      }\n    },\n    {\n      \"column\": \"pascal\",\n      \"properties\": {\n        \"dtype\": \"number\",\n        \"std\": 0.0,\n        \"min\": 0.0,\n        \"max\": 0.0,\n        \"num_unique_values\": 1,\n        \"samples\": [\n          0.0\n        ],\n        \"semantic_type\": \"\",\n        \"description\": \"\"\n      }\n    },\n    {\n      \"column\": \"veronika\",\n      \"properties\": {\n        \"dtype\": \"number\",\n        \"std\": 0.0,\n        \"min\": 0.0,\n        \"max\": 0.0,\n        \"num_unique_values\": 1,\n        \"samples\": [\n          0.0\n        ],\n        \"semantic_type\": \"\",\n        \"description\": \"\"\n      }\n    },\n    {\n      \"column\": \"achebe\",\n      \"properties\": {\n        \"dtype\": \"number\",\n        \"std\": 0.0,\n        \"min\": 0.0,\n        \"max\": 0.0,\n        \"num_unique_values\": 1,\n        \"samples\": [\n          0.0\n        ],\n        \"semantic_type\": \"\",\n        \"description\": \"\"\n      }\n    },\n    {\n      \"column\": \"haefs\",\n      \"properties\": {\n        \"dtype\": \"number\",\n        \"std\": 0.0,\n        \"min\": 0.0,\n        \"max\": 0.0,\n        \"num_unique_values\": 1,\n        \"samples\": [\n          0.0\n        ],\n        \"semantic_type\": \"\",\n        \"description\": \"\"\n      }\n    },\n    {\n      \"column\": \"jenny\",\n      \"properties\": {\n        \"dtype\": \"number\",\n        \"std\": 0.0,\n        \"min\": 0.0,\n        \"max\": 0.0,\n        \"num_unique_values\": 1,\n        \"samples\": [\n          0.0\n        ],\n        \"semantic_type\": \"\",\n        \"description\": \"\"\n      }\n    },\n    {\n      \"column\": \"di\",\n      \"properties\": {\n        \"dtype\": \"number\",\n        \"std\": 0.0,\n        \"min\": 0.0,\n        \"max\": 0.0,\n        \"num_unique_values\": 1,\n        \"samples\": [\n          0.0\n        ],\n        \"semantic_type\": \"\",\n        \"description\": \"\"\n      }\n    },\n    {\n      \"column\": \"angell\",\n      \"properties\": {\n        \"dtype\": \"number\",\n        \"std\": 0.0,\n        \"min\": 0.0,\n        \"max\": 0.0,\n        \"num_unique_values\": 1,\n        \"samples\": [\n          0.0\n        ],\n        \"semantic_type\": \"\",\n        \"description\": \"\"\n      }\n    },\n    {\n      \"column\": \"lessard\",\n      \"properties\": {\n        \"dtype\": \"number\",\n        \"std\": 0.0,\n        \"min\": 0.0,\n        \"max\": 0.0,\n        \"num_unique_values\": 1,\n        \"samples\": [\n          0.0\n        ],\n        \"semantic_type\": \"\",\n        \"description\": \"\"\n      }\n    },\n    {\n      \"column\": \"banbury\",\n      \"properties\": {\n        \"dtype\": \"number\",\n        \"std\": 0.0,\n        \"min\": 0.0,\n        \"max\": 0.0,\n        \"num_unique_values\": 1,\n        \"samples\": [\n          0.0\n        ],\n        \"semantic_type\": \"\",\n        \"description\": \"\"\n      }\n    }\n  ]\n}"
            }
          },
          "metadata": {},
          "execution_count": 28
        }
      ],
      "source": [
        "pd.DataFrame(\n",
        "    tfidf_matrix.todense(),\n",
        "    columns=tf.get_feature_names_out(),\n",
        "    index=books.title\n",
        ").sample(10, axis=1,replace=True).sample(10, axis=0)"
      ]
    },
    {
      "cell_type": "markdown",
      "source": [
        "Pada kode diatas, digunakan untuk menampilkan sample acak sebanyak 10 sample dari matriks TF-IDF yang telah diubah menjadi DataFrame, sehingga bisa dilakukan pengecekan isi secara visual dan memahami bobot kata dari penulis terhadap masing-masing buku."
      ],
      "metadata": {
        "id": "iTDVEcOhD9yB"
      }
    },
    {
      "cell_type": "code",
      "execution_count": null,
      "metadata": {
        "id": "-XvMKXj6lvkb",
        "colab": {
          "base_uri": "https://localhost:8080/"
        },
        "outputId": "db39d5a9-3957-40de-f150-b8e432f715a7"
      },
      "outputs": [
        {
          "output_type": "execute_result",
          "data": {
            "text/plain": [
              "array([[1., 0., 0., ..., 0., 0., 0.],\n",
              "       [0., 1., 0., ..., 0., 0., 0.],\n",
              "       [0., 0., 1., ..., 0., 0., 0.],\n",
              "       ...,\n",
              "       [0., 0., 0., ..., 1., 0., 0.],\n",
              "       [0., 0., 0., ..., 0., 1., 0.],\n",
              "       [0., 0., 0., ..., 0., 0., 1.]])"
            ]
          },
          "metadata": {},
          "execution_count": 29
        }
      ],
      "source": [
        "from sklearn.metrics.pairwise import cosine_similarity\n",
        "\n",
        "# Menghitung cosine similarity pada matrix tf-idf\n",
        "cosine_sim = cosine_similarity(tfidf_matrix)\n",
        "cosine_sim"
      ]
    },
    {
      "cell_type": "markdown",
      "source": [
        "Pada kode diatas, digunakan untuk mengukur tingkat kemiripan antar buku berdasarkan penulisnya dengan menggunakan metode cosine similarity. Fungsi cosine_similarity(tfidf_matrix) menghitung kemiripan antar setiap pasangan buku dari matriks TF-IDF yang merepresentasikan nama penulis. Hasilnya disimpan dalam variabel cosine_sim, berupa matriks dua dimensi di mana setiap nilai menunjukkan seberapa mirip satu buku dengan buku lainnya berdasarkan penulisnya."
      ],
      "metadata": {
        "id": "OuyAcg7aEUCA"
      }
    },
    {
      "cell_type": "code",
      "execution_count": null,
      "metadata": {
        "id": "Hq6PGHA6ly0x",
        "colab": {
          "base_uri": "https://localhost:8080/",
          "height": 516
        },
        "outputId": "ebb51c97-e546-42ab-c260-c597a2afec54"
      },
      "outputs": [
        {
          "output_type": "stream",
          "name": "stdout",
          "text": [
            "Shape: (30000, 30000)\n"
          ]
        },
        {
          "output_type": "execute_result",
          "data": {
            "text/plain": [
              "title                                               Diana-TaschenbÃ?Â¼cher, Nr.60, Das steinerne Bildnis  \\\n",
              "title                                                                                                      \n",
              "La isla del tesoro                                                                                0.0      \n",
              "Grievous Sin (Peter Decker &amp; Rina Lazarus N...                                                0.0      \n",
              "She Said Yes: The Unlikely Martyrdom of Cassie ...                                                0.0      \n",
              "El Hombre Que Susurraba Al Oido De Los Caballos                                                   0.0      \n",
              "What About the Big Stuff?                                                                         0.0      \n",
              "Step-by-step Tai Chi (Step-by-step Guides)                                                        0.0      \n",
              "Privileged Information                                                                            0.0      \n",
              "Lucy's (Completely Cool and Totally True) E-Jou...                                                0.0      \n",
              "March of Folly: From Troy to Vietnam                                                              0.0      \n",
              "It Was on Fire When I Lay Down on It                                                              0.0      \n",
              "\n",
              "title                                               Letters from the Country IV  \\\n",
              "title                                                                             \n",
              "La isla del tesoro                                                          0.0   \n",
              "Grievous Sin (Peter Decker &amp; Rina Lazarus N...                          0.0   \n",
              "She Said Yes: The Unlikely Martyrdom of Cassie ...                          0.0   \n",
              "El Hombre Que Susurraba Al Oido De Los Caballos                             0.0   \n",
              "What About the Big Stuff?                                                   0.0   \n",
              "Step-by-step Tai Chi (Step-by-step Guides)                                  0.0   \n",
              "Privileged Information                                                      0.0   \n",
              "Lucy's (Completely Cool and Totally True) E-Jou...                          0.0   \n",
              "March of Folly: From Troy to Vietnam                                        0.0   \n",
              "It Was on Fire When I Lay Down on It                                        0.0   \n",
              "\n",
              "title                                               The Authoritative Calvin and Hobbes (Calvin and Hobbes)  \\\n",
              "title                                                                                                         \n",
              "La isla del tesoro                                                                                0.0         \n",
              "Grievous Sin (Peter Decker &amp; Rina Lazarus N...                                                0.0         \n",
              "She Said Yes: The Unlikely Martyrdom of Cassie ...                                                0.0         \n",
              "El Hombre Que Susurraba Al Oido De Los Caballos                                                   0.0         \n",
              "What About the Big Stuff?                                                                         0.0         \n",
              "Step-by-step Tai Chi (Step-by-step Guides)                                                        0.0         \n",
              "Privileged Information                                                                            0.0         \n",
              "Lucy's (Completely Cool and Totally True) E-Jou...                                                0.0         \n",
              "March of Folly: From Troy to Vietnam                                                              0.0         \n",
              "It Was on Fire When I Lay Down on It                                                              0.0         \n",
              "\n",
              "title                                               Heat and Dust (Perennial Library)  \\\n",
              "title                                                                                   \n",
              "La isla del tesoro                                                                0.0   \n",
              "Grievous Sin (Peter Decker &amp; Rina Lazarus N...                                0.0   \n",
              "She Said Yes: The Unlikely Martyrdom of Cassie ...                                0.0   \n",
              "El Hombre Que Susurraba Al Oido De Los Caballos                                   0.0   \n",
              "What About the Big Stuff?                                                         0.0   \n",
              "Step-by-step Tai Chi (Step-by-step Guides)                                        0.0   \n",
              "Privileged Information                                                            0.0   \n",
              "Lucy's (Completely Cool and Totally True) E-Jou...                                0.0   \n",
              "March of Folly: From Troy to Vietnam                                              0.0   \n",
              "It Was on Fire When I Lay Down on It                                              0.0   \n",
              "\n",
              "title                                               Man's Loving Family  \n",
              "title                                                                    \n",
              "La isla del tesoro                                                  0.0  \n",
              "Grievous Sin (Peter Decker &amp; Rina Lazarus N...                  0.0  \n",
              "She Said Yes: The Unlikely Martyrdom of Cassie ...                  0.0  \n",
              "El Hombre Que Susurraba Al Oido De Los Caballos                     0.0  \n",
              "What About the Big Stuff?                                           0.0  \n",
              "Step-by-step Tai Chi (Step-by-step Guides)                          0.0  \n",
              "Privileged Information                                              0.0  \n",
              "Lucy's (Completely Cool and Totally True) E-Jou...                  0.0  \n",
              "March of Folly: From Troy to Vietnam                                0.0  \n",
              "It Was on Fire When I Lay Down on It                                0.0  "
            ],
            "text/html": [
              "\n",
              "  <div id=\"df-7b4f73ae-e3b2-49dc-bb05-218107367e67\" class=\"colab-df-container\">\n",
              "    <div>\n",
              "<style scoped>\n",
              "    .dataframe tbody tr th:only-of-type {\n",
              "        vertical-align: middle;\n",
              "    }\n",
              "\n",
              "    .dataframe tbody tr th {\n",
              "        vertical-align: top;\n",
              "    }\n",
              "\n",
              "    .dataframe thead th {\n",
              "        text-align: right;\n",
              "    }\n",
              "</style>\n",
              "<table border=\"1\" class=\"dataframe\">\n",
              "  <thead>\n",
              "    <tr style=\"text-align: right;\">\n",
              "      <th>title</th>\n",
              "      <th>Diana-TaschenbÃ?Â¼cher, Nr.60, Das steinerne Bildnis</th>\n",
              "      <th>Letters from the Country IV</th>\n",
              "      <th>The Authoritative Calvin and Hobbes (Calvin and Hobbes)</th>\n",
              "      <th>Heat and Dust (Perennial Library)</th>\n",
              "      <th>Man's Loving Family</th>\n",
              "    </tr>\n",
              "    <tr>\n",
              "      <th>title</th>\n",
              "      <th></th>\n",
              "      <th></th>\n",
              "      <th></th>\n",
              "      <th></th>\n",
              "      <th></th>\n",
              "    </tr>\n",
              "  </thead>\n",
              "  <tbody>\n",
              "    <tr>\n",
              "      <th>La isla del tesoro</th>\n",
              "      <td>0.0</td>\n",
              "      <td>0.0</td>\n",
              "      <td>0.0</td>\n",
              "      <td>0.0</td>\n",
              "      <td>0.0</td>\n",
              "    </tr>\n",
              "    <tr>\n",
              "      <th>Grievous Sin (Peter Decker &amp;amp; Rina Lazarus Novels (Paperback))</th>\n",
              "      <td>0.0</td>\n",
              "      <td>0.0</td>\n",
              "      <td>0.0</td>\n",
              "      <td>0.0</td>\n",
              "      <td>0.0</td>\n",
              "    </tr>\n",
              "    <tr>\n",
              "      <th>She Said Yes: The Unlikely Martyrdom of Cassie Bernall</th>\n",
              "      <td>0.0</td>\n",
              "      <td>0.0</td>\n",
              "      <td>0.0</td>\n",
              "      <td>0.0</td>\n",
              "      <td>0.0</td>\n",
              "    </tr>\n",
              "    <tr>\n",
              "      <th>El Hombre Que Susurraba Al Oido De Los Caballos</th>\n",
              "      <td>0.0</td>\n",
              "      <td>0.0</td>\n",
              "      <td>0.0</td>\n",
              "      <td>0.0</td>\n",
              "      <td>0.0</td>\n",
              "    </tr>\n",
              "    <tr>\n",
              "      <th>What About the Big Stuff?</th>\n",
              "      <td>0.0</td>\n",
              "      <td>0.0</td>\n",
              "      <td>0.0</td>\n",
              "      <td>0.0</td>\n",
              "      <td>0.0</td>\n",
              "    </tr>\n",
              "    <tr>\n",
              "      <th>Step-by-step Tai Chi (Step-by-step Guides)</th>\n",
              "      <td>0.0</td>\n",
              "      <td>0.0</td>\n",
              "      <td>0.0</td>\n",
              "      <td>0.0</td>\n",
              "      <td>0.0</td>\n",
              "    </tr>\n",
              "    <tr>\n",
              "      <th>Privileged Information</th>\n",
              "      <td>0.0</td>\n",
              "      <td>0.0</td>\n",
              "      <td>0.0</td>\n",
              "      <td>0.0</td>\n",
              "      <td>0.0</td>\n",
              "    </tr>\n",
              "    <tr>\n",
              "      <th>Lucy's (Completely Cool and Totally True) E-Journal</th>\n",
              "      <td>0.0</td>\n",
              "      <td>0.0</td>\n",
              "      <td>0.0</td>\n",
              "      <td>0.0</td>\n",
              "      <td>0.0</td>\n",
              "    </tr>\n",
              "    <tr>\n",
              "      <th>March of Folly: From Troy to Vietnam</th>\n",
              "      <td>0.0</td>\n",
              "      <td>0.0</td>\n",
              "      <td>0.0</td>\n",
              "      <td>0.0</td>\n",
              "      <td>0.0</td>\n",
              "    </tr>\n",
              "    <tr>\n",
              "      <th>It Was on Fire When I Lay Down on It</th>\n",
              "      <td>0.0</td>\n",
              "      <td>0.0</td>\n",
              "      <td>0.0</td>\n",
              "      <td>0.0</td>\n",
              "      <td>0.0</td>\n",
              "    </tr>\n",
              "  </tbody>\n",
              "</table>\n",
              "</div>\n",
              "    <div class=\"colab-df-buttons\">\n",
              "\n",
              "  <div class=\"colab-df-container\">\n",
              "    <button class=\"colab-df-convert\" onclick=\"convertToInteractive('df-7b4f73ae-e3b2-49dc-bb05-218107367e67')\"\n",
              "            title=\"Convert this dataframe to an interactive table.\"\n",
              "            style=\"display:none;\">\n",
              "\n",
              "  <svg xmlns=\"http://www.w3.org/2000/svg\" height=\"24px\" viewBox=\"0 -960 960 960\">\n",
              "    <path d=\"M120-120v-720h720v720H120Zm60-500h600v-160H180v160Zm220 220h160v-160H400v160Zm0 220h160v-160H400v160ZM180-400h160v-160H180v160Zm440 0h160v-160H620v160ZM180-180h160v-160H180v160Zm440 0h160v-160H620v160Z\"/>\n",
              "  </svg>\n",
              "    </button>\n",
              "\n",
              "  <style>\n",
              "    .colab-df-container {\n",
              "      display:flex;\n",
              "      gap: 12px;\n",
              "    }\n",
              "\n",
              "    .colab-df-convert {\n",
              "      background-color: #E8F0FE;\n",
              "      border: none;\n",
              "      border-radius: 50%;\n",
              "      cursor: pointer;\n",
              "      display: none;\n",
              "      fill: #1967D2;\n",
              "      height: 32px;\n",
              "      padding: 0 0 0 0;\n",
              "      width: 32px;\n",
              "    }\n",
              "\n",
              "    .colab-df-convert:hover {\n",
              "      background-color: #E2EBFA;\n",
              "      box-shadow: 0px 1px 2px rgba(60, 64, 67, 0.3), 0px 1px 3px 1px rgba(60, 64, 67, 0.15);\n",
              "      fill: #174EA6;\n",
              "    }\n",
              "\n",
              "    .colab-df-buttons div {\n",
              "      margin-bottom: 4px;\n",
              "    }\n",
              "\n",
              "    [theme=dark] .colab-df-convert {\n",
              "      background-color: #3B4455;\n",
              "      fill: #D2E3FC;\n",
              "    }\n",
              "\n",
              "    [theme=dark] .colab-df-convert:hover {\n",
              "      background-color: #434B5C;\n",
              "      box-shadow: 0px 1px 3px 1px rgba(0, 0, 0, 0.15);\n",
              "      filter: drop-shadow(0px 1px 2px rgba(0, 0, 0, 0.3));\n",
              "      fill: #FFFFFF;\n",
              "    }\n",
              "  </style>\n",
              "\n",
              "    <script>\n",
              "      const buttonEl =\n",
              "        document.querySelector('#df-7b4f73ae-e3b2-49dc-bb05-218107367e67 button.colab-df-convert');\n",
              "      buttonEl.style.display =\n",
              "        google.colab.kernel.accessAllowed ? 'block' : 'none';\n",
              "\n",
              "      async function convertToInteractive(key) {\n",
              "        const element = document.querySelector('#df-7b4f73ae-e3b2-49dc-bb05-218107367e67');\n",
              "        const dataTable =\n",
              "          await google.colab.kernel.invokeFunction('convertToInteractive',\n",
              "                                                    [key], {});\n",
              "        if (!dataTable) return;\n",
              "\n",
              "        const docLinkHtml = 'Like what you see? Visit the ' +\n",
              "          '<a target=\"_blank\" href=https://colab.research.google.com/notebooks/data_table.ipynb>data table notebook</a>'\n",
              "          + ' to learn more about interactive tables.';\n",
              "        element.innerHTML = '';\n",
              "        dataTable['output_type'] = 'display_data';\n",
              "        await google.colab.output.renderOutput(dataTable, element);\n",
              "        const docLink = document.createElement('div');\n",
              "        docLink.innerHTML = docLinkHtml;\n",
              "        element.appendChild(docLink);\n",
              "      }\n",
              "    </script>\n",
              "  </div>\n",
              "\n",
              "\n",
              "    <div id=\"df-4944d59c-9779-48fa-9dcb-a132541fb083\">\n",
              "      <button class=\"colab-df-quickchart\" onclick=\"quickchart('df-4944d59c-9779-48fa-9dcb-a132541fb083')\"\n",
              "                title=\"Suggest charts\"\n",
              "                style=\"display:none;\">\n",
              "\n",
              "<svg xmlns=\"http://www.w3.org/2000/svg\" height=\"24px\"viewBox=\"0 0 24 24\"\n",
              "     width=\"24px\">\n",
              "    <g>\n",
              "        <path d=\"M19 3H5c-1.1 0-2 .9-2 2v14c0 1.1.9 2 2 2h14c1.1 0 2-.9 2-2V5c0-1.1-.9-2-2-2zM9 17H7v-7h2v7zm4 0h-2V7h2v10zm4 0h-2v-4h2v4z\"/>\n",
              "    </g>\n",
              "</svg>\n",
              "      </button>\n",
              "\n",
              "<style>\n",
              "  .colab-df-quickchart {\n",
              "      --bg-color: #E8F0FE;\n",
              "      --fill-color: #1967D2;\n",
              "      --hover-bg-color: #E2EBFA;\n",
              "      --hover-fill-color: #174EA6;\n",
              "      --disabled-fill-color: #AAA;\n",
              "      --disabled-bg-color: #DDD;\n",
              "  }\n",
              "\n",
              "  [theme=dark] .colab-df-quickchart {\n",
              "      --bg-color: #3B4455;\n",
              "      --fill-color: #D2E3FC;\n",
              "      --hover-bg-color: #434B5C;\n",
              "      --hover-fill-color: #FFFFFF;\n",
              "      --disabled-bg-color: #3B4455;\n",
              "      --disabled-fill-color: #666;\n",
              "  }\n",
              "\n",
              "  .colab-df-quickchart {\n",
              "    background-color: var(--bg-color);\n",
              "    border: none;\n",
              "    border-radius: 50%;\n",
              "    cursor: pointer;\n",
              "    display: none;\n",
              "    fill: var(--fill-color);\n",
              "    height: 32px;\n",
              "    padding: 0;\n",
              "    width: 32px;\n",
              "  }\n",
              "\n",
              "  .colab-df-quickchart:hover {\n",
              "    background-color: var(--hover-bg-color);\n",
              "    box-shadow: 0 1px 2px rgba(60, 64, 67, 0.3), 0 1px 3px 1px rgba(60, 64, 67, 0.15);\n",
              "    fill: var(--button-hover-fill-color);\n",
              "  }\n",
              "\n",
              "  .colab-df-quickchart-complete:disabled,\n",
              "  .colab-df-quickchart-complete:disabled:hover {\n",
              "    background-color: var(--disabled-bg-color);\n",
              "    fill: var(--disabled-fill-color);\n",
              "    box-shadow: none;\n",
              "  }\n",
              "\n",
              "  .colab-df-spinner {\n",
              "    border: 2px solid var(--fill-color);\n",
              "    border-color: transparent;\n",
              "    border-bottom-color: var(--fill-color);\n",
              "    animation:\n",
              "      spin 1s steps(1) infinite;\n",
              "  }\n",
              "\n",
              "  @keyframes spin {\n",
              "    0% {\n",
              "      border-color: transparent;\n",
              "      border-bottom-color: var(--fill-color);\n",
              "      border-left-color: var(--fill-color);\n",
              "    }\n",
              "    20% {\n",
              "      border-color: transparent;\n",
              "      border-left-color: var(--fill-color);\n",
              "      border-top-color: var(--fill-color);\n",
              "    }\n",
              "    30% {\n",
              "      border-color: transparent;\n",
              "      border-left-color: var(--fill-color);\n",
              "      border-top-color: var(--fill-color);\n",
              "      border-right-color: var(--fill-color);\n",
              "    }\n",
              "    40% {\n",
              "      border-color: transparent;\n",
              "      border-right-color: var(--fill-color);\n",
              "      border-top-color: var(--fill-color);\n",
              "    }\n",
              "    60% {\n",
              "      border-color: transparent;\n",
              "      border-right-color: var(--fill-color);\n",
              "    }\n",
              "    80% {\n",
              "      border-color: transparent;\n",
              "      border-right-color: var(--fill-color);\n",
              "      border-bottom-color: var(--fill-color);\n",
              "    }\n",
              "    90% {\n",
              "      border-color: transparent;\n",
              "      border-bottom-color: var(--fill-color);\n",
              "    }\n",
              "  }\n",
              "</style>\n",
              "\n",
              "      <script>\n",
              "        async function quickchart(key) {\n",
              "          const quickchartButtonEl =\n",
              "            document.querySelector('#' + key + ' button');\n",
              "          quickchartButtonEl.disabled = true;  // To prevent multiple clicks.\n",
              "          quickchartButtonEl.classList.add('colab-df-spinner');\n",
              "          try {\n",
              "            const charts = await google.colab.kernel.invokeFunction(\n",
              "                'suggestCharts', [key], {});\n",
              "          } catch (error) {\n",
              "            console.error('Error during call to suggestCharts:', error);\n",
              "          }\n",
              "          quickchartButtonEl.classList.remove('colab-df-spinner');\n",
              "          quickchartButtonEl.classList.add('colab-df-quickchart-complete');\n",
              "        }\n",
              "        (() => {\n",
              "          let quickchartButtonEl =\n",
              "            document.querySelector('#df-4944d59c-9779-48fa-9dcb-a132541fb083 button');\n",
              "          quickchartButtonEl.style.display =\n",
              "            google.colab.kernel.accessAllowed ? 'block' : 'none';\n",
              "        })();\n",
              "      </script>\n",
              "    </div>\n",
              "\n",
              "    </div>\n",
              "  </div>\n"
            ],
            "application/vnd.google.colaboratory.intrinsic+json": {
              "type": "dataframe",
              "summary": "{\n  \"name\": \"cosine_sim_df\",\n  \"rows\": 10,\n  \"fields\": [\n    {\n      \"column\": \"title\",\n      \"properties\": {\n        \"dtype\": \"string\",\n        \"num_unique_values\": 10,\n        \"samples\": [\n          \"March of Folly: From Troy to Vietnam\",\n          \"Grievous Sin (Peter Decker &amp; Rina Lazarus Novels (Paperback))\",\n          \"Step-by-step Tai Chi (Step-by-step Guides)\"\n        ],\n        \"semantic_type\": \"\",\n        \"description\": \"\"\n      }\n    },\n    {\n      \"column\": \"Diana-Taschenb\\u00c3?\\u00c2\\u00bccher, Nr.60, Das steinerne Bildnis\",\n      \"properties\": {\n        \"dtype\": \"number\",\n        \"std\": 0.0,\n        \"min\": 0.0,\n        \"max\": 0.0,\n        \"num_unique_values\": 1,\n        \"samples\": [\n          0.0\n        ],\n        \"semantic_type\": \"\",\n        \"description\": \"\"\n      }\n    },\n    {\n      \"column\": \"Letters from the Country IV\",\n      \"properties\": {\n        \"dtype\": \"number\",\n        \"std\": 0.0,\n        \"min\": 0.0,\n        \"max\": 0.0,\n        \"num_unique_values\": 1,\n        \"samples\": [\n          0.0\n        ],\n        \"semantic_type\": \"\",\n        \"description\": \"\"\n      }\n    },\n    {\n      \"column\": \"The Authoritative Calvin and Hobbes (Calvin and Hobbes)\",\n      \"properties\": {\n        \"dtype\": \"number\",\n        \"std\": 0.0,\n        \"min\": 0.0,\n        \"max\": 0.0,\n        \"num_unique_values\": 1,\n        \"samples\": [\n          0.0\n        ],\n        \"semantic_type\": \"\",\n        \"description\": \"\"\n      }\n    },\n    {\n      \"column\": \"Heat and Dust (Perennial Library)\",\n      \"properties\": {\n        \"dtype\": \"number\",\n        \"std\": 0.0,\n        \"min\": 0.0,\n        \"max\": 0.0,\n        \"num_unique_values\": 1,\n        \"samples\": [\n          0.0\n        ],\n        \"semantic_type\": \"\",\n        \"description\": \"\"\n      }\n    },\n    {\n      \"column\": \"Man's Loving Family\",\n      \"properties\": {\n        \"dtype\": \"number\",\n        \"std\": 0.0,\n        \"min\": 0.0,\n        \"max\": 0.0,\n        \"num_unique_values\": 1,\n        \"samples\": [\n          0.0\n        ],\n        \"semantic_type\": \"\",\n        \"description\": \"\"\n      }\n    }\n  ]\n}"
            }
          },
          "metadata": {},
          "execution_count": 78
        }
      ],
      "source": [
        "# Membuat dataframe dari variabel cosine_sim dengan baris dan kolom berupa nama judul buku\n",
        "cosine_sim_df = pd.DataFrame(cosine_sim, index=books['title'], columns=books['title'])\n",
        "print('Shape:', cosine_sim_df.shape)\n",
        "\n",
        "# Melihat similarity matrix pada setiap judul buku\n",
        "cosine_sim_df.sample(5, axis=1).sample(10, axis=0)"
      ]
    },
    {
      "cell_type": "markdown",
      "source": [
        "Pada kode diatas, digunakan untuk mengorganisasi hasil perhitungan kemiripan antar buku ke dalam bentuk DataFrame berdasarkan nama buku dari dataset 'books.csv' sehingga lebih mudah dibaca dan dianalisis hal ini dilakukan guna mempermudah eksplorasi dan validasi hasil perhitungan kemiripan antar buku, yang nantinya bisa digunakan dalam sistem rekomendasi buku berbasis content-based filtering."
      ],
      "metadata": {
        "id": "FBcR8ePMEaUy"
      }
    },
    {
      "cell_type": "code",
      "source": [
        "def books_reccomendation_cbf(book_title, similarity_data=cosine_sim_df, items=books[['title', 'author']], k=5):\n",
        "\n",
        "    # Mengambil data similarity antara book_title dengan seluruh buku\n",
        "    if book_title not in similarity_data.columns:\n",
        "        print(f\"Error: Book '{book_title}' not found in the similarity data.\")\n",
        "        return pd.DataFrame() # Return an empty DataFrame\n",
        "\n",
        "    similarity_scores = similarity_data.loc[:, book_title].to_numpy()\n",
        "\n",
        "    # Menentukan indeks dengan similarity terbesar menggunakan argpartition\n",
        "    book_similarity = similarity_data[book_title]\n",
        "\n",
        "    # Mengurutkan rekomendasi buku berdasarkan skor similairtas tertinggi sebanyak k buku\n",
        "    sorted_similarity = book_similarity.sort_values(ascending=False)\n",
        "    top_k_plus_1 = sorted_similarity.head(k + 1)\n",
        "\n",
        "    # Mengambil judul buku dan skor similaritas\n",
        "    closest_titles = top_k_plus_1.index.tolist()\n",
        "    closest_scores = top_k_plus_1.values\n",
        "\n",
        "    # Membuat DataFrame sementara dari judul dan skor\n",
        "    temp_df = pd.DataFrame({\n",
        "        'Book_Recommendation': closest_titles,\n",
        "        'Similarity': closest_scores\n",
        "    })\n",
        "\n",
        "    # Mengecualikan buku yang sama dengan input\n",
        "    result = temp_df[temp_df['Book_Recommendation'] != book_title]\n",
        "\n",
        "    # Mengambil top k rekomendasi setelah mengecualikan input buku\n",
        "    result = result.head(k)\n",
        "\n",
        "    # Merge dengan informasi item untuk mendapatkan Author\n",
        "    result = result.merge(items, left_on='Book_Recommendation', right_on='title') \\\n",
        "                   .drop(columns=['title']) \\\n",
        "                   .rename(columns={'author': 'Author'})\n",
        "\n",
        "    # Mengembalikan top k rekomendasi\n",
        "    return result.head(k)"
      ],
      "metadata": {
        "id": "9t5sKuY6pVI2"
      },
      "execution_count": null,
      "outputs": []
    },
    {
      "cell_type": "markdown",
      "source": [
        "Pada kode diatas, dibuatkan sebuah fungsi books_reccomendation_cbf untuk memberikan rekomendasi buku berbasis content-based filtering berdasarkan kemiripan judul buku. Fungsi ini terlebih dahulu memeriksa apakah judul buku yang diminta terdapat dalam data, lalu menghitung skor kemiripan (similarity) antara buku tersebut dengan semua buku lainnya menggunakan matrix similarity. Setelah itu, fungsi mengurutkan skor dari yang tertinggi, mengecualikan buku input dari hasil, dan mengambil top-k buku yaitu berjumlah 5 dengan skor kemiripan tertinggi. Hasil akhirnya adalah DataFrame yang berisi judul buku rekomendasi, nilai kemiripan, dan nama penulis dari buku-buku yang paling mirip."
      ],
      "metadata": {
        "id": "RGzsT-RII6Ma"
      }
    },
    {
      "cell_type": "markdown",
      "source": [
        "# Validation\n",
        "\n",
        "Setelah model telah selesai dikembangkan, selanjutnya melakukan tes validasi guna mencari tahu apakah model yang dikembangkan untuk memberikan rekomendasi 5 buku berdasarkan penulis yang sama"
      ],
      "metadata": {
        "id": "GgufyJbbKxqj"
      }
    },
    {
      "cell_type": "code",
      "source": [
        "# Mendapatkan rekomendasi buku berdasarkan judul\n",
        "books_reccomendation_cbf('El Hombre Que Susurraba Al Oido De Los Caballos')"
      ],
      "metadata": {
        "id": "peu_g2T3pprG",
        "colab": {
          "base_uri": "https://localhost:8080/",
          "height": 206
        },
        "outputId": "d1aad7d0-64f8-4778-a9f8-8ef13d7ae0da"
      },
      "execution_count": null,
      "outputs": [
        {
          "output_type": "execute_result",
          "data": {
            "text/plain": [
              "       Book_Recommendation  Similarity          Author\n",
              "0        The Loop: A Novel         1.0  Nicholas Evans\n",
              "1  Der PferdeflÃ?Â¼sterer.         1.0  Nicholas Evans\n",
              "2      The Horse Whisperer         1.0  Nicholas Evans\n",
              "3      The Horse Whisperer         1.0  Nicholas Evans\n",
              "4      Le cercle des loups         1.0  Nicholas Evans"
            ],
            "text/html": [
              "\n",
              "  <div id=\"df-204dfa51-8dbe-4419-aa98-0e48bb0edf53\" class=\"colab-df-container\">\n",
              "    <div>\n",
              "<style scoped>\n",
              "    .dataframe tbody tr th:only-of-type {\n",
              "        vertical-align: middle;\n",
              "    }\n",
              "\n",
              "    .dataframe tbody tr th {\n",
              "        vertical-align: top;\n",
              "    }\n",
              "\n",
              "    .dataframe thead th {\n",
              "        text-align: right;\n",
              "    }\n",
              "</style>\n",
              "<table border=\"1\" class=\"dataframe\">\n",
              "  <thead>\n",
              "    <tr style=\"text-align: right;\">\n",
              "      <th></th>\n",
              "      <th>Book_Recommendation</th>\n",
              "      <th>Similarity</th>\n",
              "      <th>Author</th>\n",
              "    </tr>\n",
              "  </thead>\n",
              "  <tbody>\n",
              "    <tr>\n",
              "      <th>0</th>\n",
              "      <td>The Loop: A Novel</td>\n",
              "      <td>1.0</td>\n",
              "      <td>Nicholas Evans</td>\n",
              "    </tr>\n",
              "    <tr>\n",
              "      <th>1</th>\n",
              "      <td>Der PferdeflÃ?Â¼sterer.</td>\n",
              "      <td>1.0</td>\n",
              "      <td>Nicholas Evans</td>\n",
              "    </tr>\n",
              "    <tr>\n",
              "      <th>2</th>\n",
              "      <td>The Horse Whisperer</td>\n",
              "      <td>1.0</td>\n",
              "      <td>Nicholas Evans</td>\n",
              "    </tr>\n",
              "    <tr>\n",
              "      <th>3</th>\n",
              "      <td>The Horse Whisperer</td>\n",
              "      <td>1.0</td>\n",
              "      <td>Nicholas Evans</td>\n",
              "    </tr>\n",
              "    <tr>\n",
              "      <th>4</th>\n",
              "      <td>Le cercle des loups</td>\n",
              "      <td>1.0</td>\n",
              "      <td>Nicholas Evans</td>\n",
              "    </tr>\n",
              "  </tbody>\n",
              "</table>\n",
              "</div>\n",
              "    <div class=\"colab-df-buttons\">\n",
              "\n",
              "  <div class=\"colab-df-container\">\n",
              "    <button class=\"colab-df-convert\" onclick=\"convertToInteractive('df-204dfa51-8dbe-4419-aa98-0e48bb0edf53')\"\n",
              "            title=\"Convert this dataframe to an interactive table.\"\n",
              "            style=\"display:none;\">\n",
              "\n",
              "  <svg xmlns=\"http://www.w3.org/2000/svg\" height=\"24px\" viewBox=\"0 -960 960 960\">\n",
              "    <path d=\"M120-120v-720h720v720H120Zm60-500h600v-160H180v160Zm220 220h160v-160H400v160Zm0 220h160v-160H400v160ZM180-400h160v-160H180v160Zm440 0h160v-160H620v160ZM180-180h160v-160H180v160Zm440 0h160v-160H620v160Z\"/>\n",
              "  </svg>\n",
              "    </button>\n",
              "\n",
              "  <style>\n",
              "    .colab-df-container {\n",
              "      display:flex;\n",
              "      gap: 12px;\n",
              "    }\n",
              "\n",
              "    .colab-df-convert {\n",
              "      background-color: #E8F0FE;\n",
              "      border: none;\n",
              "      border-radius: 50%;\n",
              "      cursor: pointer;\n",
              "      display: none;\n",
              "      fill: #1967D2;\n",
              "      height: 32px;\n",
              "      padding: 0 0 0 0;\n",
              "      width: 32px;\n",
              "    }\n",
              "\n",
              "    .colab-df-convert:hover {\n",
              "      background-color: #E2EBFA;\n",
              "      box-shadow: 0px 1px 2px rgba(60, 64, 67, 0.3), 0px 1px 3px 1px rgba(60, 64, 67, 0.15);\n",
              "      fill: #174EA6;\n",
              "    }\n",
              "\n",
              "    .colab-df-buttons div {\n",
              "      margin-bottom: 4px;\n",
              "    }\n",
              "\n",
              "    [theme=dark] .colab-df-convert {\n",
              "      background-color: #3B4455;\n",
              "      fill: #D2E3FC;\n",
              "    }\n",
              "\n",
              "    [theme=dark] .colab-df-convert:hover {\n",
              "      background-color: #434B5C;\n",
              "      box-shadow: 0px 1px 3px 1px rgba(0, 0, 0, 0.15);\n",
              "      filter: drop-shadow(0px 1px 2px rgba(0, 0, 0, 0.3));\n",
              "      fill: #FFFFFF;\n",
              "    }\n",
              "  </style>\n",
              "\n",
              "    <script>\n",
              "      const buttonEl =\n",
              "        document.querySelector('#df-204dfa51-8dbe-4419-aa98-0e48bb0edf53 button.colab-df-convert');\n",
              "      buttonEl.style.display =\n",
              "        google.colab.kernel.accessAllowed ? 'block' : 'none';\n",
              "\n",
              "      async function convertToInteractive(key) {\n",
              "        const element = document.querySelector('#df-204dfa51-8dbe-4419-aa98-0e48bb0edf53');\n",
              "        const dataTable =\n",
              "          await google.colab.kernel.invokeFunction('convertToInteractive',\n",
              "                                                    [key], {});\n",
              "        if (!dataTable) return;\n",
              "\n",
              "        const docLinkHtml = 'Like what you see? Visit the ' +\n",
              "          '<a target=\"_blank\" href=https://colab.research.google.com/notebooks/data_table.ipynb>data table notebook</a>'\n",
              "          + ' to learn more about interactive tables.';\n",
              "        element.innerHTML = '';\n",
              "        dataTable['output_type'] = 'display_data';\n",
              "        await google.colab.output.renderOutput(dataTable, element);\n",
              "        const docLink = document.createElement('div');\n",
              "        docLink.innerHTML = docLinkHtml;\n",
              "        element.appendChild(docLink);\n",
              "      }\n",
              "    </script>\n",
              "  </div>\n",
              "\n",
              "\n",
              "    <div id=\"df-39279fd6-d8d7-447f-b0db-4a258c4dd4b3\">\n",
              "      <button class=\"colab-df-quickchart\" onclick=\"quickchart('df-39279fd6-d8d7-447f-b0db-4a258c4dd4b3')\"\n",
              "                title=\"Suggest charts\"\n",
              "                style=\"display:none;\">\n",
              "\n",
              "<svg xmlns=\"http://www.w3.org/2000/svg\" height=\"24px\"viewBox=\"0 0 24 24\"\n",
              "     width=\"24px\">\n",
              "    <g>\n",
              "        <path d=\"M19 3H5c-1.1 0-2 .9-2 2v14c0 1.1.9 2 2 2h14c1.1 0 2-.9 2-2V5c0-1.1-.9-2-2-2zM9 17H7v-7h2v7zm4 0h-2V7h2v10zm4 0h-2v-4h2v4z\"/>\n",
              "    </g>\n",
              "</svg>\n",
              "      </button>\n",
              "\n",
              "<style>\n",
              "  .colab-df-quickchart {\n",
              "      --bg-color: #E8F0FE;\n",
              "      --fill-color: #1967D2;\n",
              "      --hover-bg-color: #E2EBFA;\n",
              "      --hover-fill-color: #174EA6;\n",
              "      --disabled-fill-color: #AAA;\n",
              "      --disabled-bg-color: #DDD;\n",
              "  }\n",
              "\n",
              "  [theme=dark] .colab-df-quickchart {\n",
              "      --bg-color: #3B4455;\n",
              "      --fill-color: #D2E3FC;\n",
              "      --hover-bg-color: #434B5C;\n",
              "      --hover-fill-color: #FFFFFF;\n",
              "      --disabled-bg-color: #3B4455;\n",
              "      --disabled-fill-color: #666;\n",
              "  }\n",
              "\n",
              "  .colab-df-quickchart {\n",
              "    background-color: var(--bg-color);\n",
              "    border: none;\n",
              "    border-radius: 50%;\n",
              "    cursor: pointer;\n",
              "    display: none;\n",
              "    fill: var(--fill-color);\n",
              "    height: 32px;\n",
              "    padding: 0;\n",
              "    width: 32px;\n",
              "  }\n",
              "\n",
              "  .colab-df-quickchart:hover {\n",
              "    background-color: var(--hover-bg-color);\n",
              "    box-shadow: 0 1px 2px rgba(60, 64, 67, 0.3), 0 1px 3px 1px rgba(60, 64, 67, 0.15);\n",
              "    fill: var(--button-hover-fill-color);\n",
              "  }\n",
              "\n",
              "  .colab-df-quickchart-complete:disabled,\n",
              "  .colab-df-quickchart-complete:disabled:hover {\n",
              "    background-color: var(--disabled-bg-color);\n",
              "    fill: var(--disabled-fill-color);\n",
              "    box-shadow: none;\n",
              "  }\n",
              "\n",
              "  .colab-df-spinner {\n",
              "    border: 2px solid var(--fill-color);\n",
              "    border-color: transparent;\n",
              "    border-bottom-color: var(--fill-color);\n",
              "    animation:\n",
              "      spin 1s steps(1) infinite;\n",
              "  }\n",
              "\n",
              "  @keyframes spin {\n",
              "    0% {\n",
              "      border-color: transparent;\n",
              "      border-bottom-color: var(--fill-color);\n",
              "      border-left-color: var(--fill-color);\n",
              "    }\n",
              "    20% {\n",
              "      border-color: transparent;\n",
              "      border-left-color: var(--fill-color);\n",
              "      border-top-color: var(--fill-color);\n",
              "    }\n",
              "    30% {\n",
              "      border-color: transparent;\n",
              "      border-left-color: var(--fill-color);\n",
              "      border-top-color: var(--fill-color);\n",
              "      border-right-color: var(--fill-color);\n",
              "    }\n",
              "    40% {\n",
              "      border-color: transparent;\n",
              "      border-right-color: var(--fill-color);\n",
              "      border-top-color: var(--fill-color);\n",
              "    }\n",
              "    60% {\n",
              "      border-color: transparent;\n",
              "      border-right-color: var(--fill-color);\n",
              "    }\n",
              "    80% {\n",
              "      border-color: transparent;\n",
              "      border-right-color: var(--fill-color);\n",
              "      border-bottom-color: var(--fill-color);\n",
              "    }\n",
              "    90% {\n",
              "      border-color: transparent;\n",
              "      border-bottom-color: var(--fill-color);\n",
              "    }\n",
              "  }\n",
              "</style>\n",
              "\n",
              "      <script>\n",
              "        async function quickchart(key) {\n",
              "          const quickchartButtonEl =\n",
              "            document.querySelector('#' + key + ' button');\n",
              "          quickchartButtonEl.disabled = true;  // To prevent multiple clicks.\n",
              "          quickchartButtonEl.classList.add('colab-df-spinner');\n",
              "          try {\n",
              "            const charts = await google.colab.kernel.invokeFunction(\n",
              "                'suggestCharts', [key], {});\n",
              "          } catch (error) {\n",
              "            console.error('Error during call to suggestCharts:', error);\n",
              "          }\n",
              "          quickchartButtonEl.classList.remove('colab-df-spinner');\n",
              "          quickchartButtonEl.classList.add('colab-df-quickchart-complete');\n",
              "        }\n",
              "        (() => {\n",
              "          let quickchartButtonEl =\n",
              "            document.querySelector('#df-39279fd6-d8d7-447f-b0db-4a258c4dd4b3 button');\n",
              "          quickchartButtonEl.style.display =\n",
              "            google.colab.kernel.accessAllowed ? 'block' : 'none';\n",
              "        })();\n",
              "      </script>\n",
              "    </div>\n",
              "\n",
              "    </div>\n",
              "  </div>\n"
            ],
            "application/vnd.google.colaboratory.intrinsic+json": {
              "type": "dataframe",
              "summary": "{\n  \"name\": \"books_reccomendation_cbf('El Hombre Que Susurraba Al Oido De Los Caballos')\",\n  \"rows\": 5,\n  \"fields\": [\n    {\n      \"column\": \"Book_Recommendation\",\n      \"properties\": {\n        \"dtype\": \"string\",\n        \"num_unique_values\": 4,\n        \"samples\": [\n          \"Der Pferdefl\\u00c3?\\u00c2\\u00bcsterer.\",\n          \"Le cercle des loups\",\n          \"The Loop: A Novel\"\n        ],\n        \"semantic_type\": \"\",\n        \"description\": \"\"\n      }\n    },\n    {\n      \"column\": \"Similarity\",\n      \"properties\": {\n        \"dtype\": \"number\",\n        \"std\": 0.0,\n        \"min\": 1.0,\n        \"max\": 1.0,\n        \"num_unique_values\": 1,\n        \"samples\": [\n          1.0\n        ],\n        \"semantic_type\": \"\",\n        \"description\": \"\"\n      }\n    },\n    {\n      \"column\": \"Author\",\n      \"properties\": {\n        \"dtype\": \"category\",\n        \"num_unique_values\": 1,\n        \"samples\": [\n          \"Nicholas Evans\"\n        ],\n        \"semantic_type\": \"\",\n        \"description\": \"\"\n      }\n    }\n  ]\n}"
            }
          },
          "metadata": {},
          "execution_count": 81
        }
      ]
    },
    {
      "cell_type": "markdown",
      "source": [
        "Pada kode diatas, setelah model dikembangkan selanjutnya adalah memeriksa apakah model dapat memberikan rekomendasi buku yang akurat berdasarkan penulis yang sama. Dari hasil output diatas, didapati hasil bahwa model memberikan referensi kelima buku lain dari penulis dengan nama yang sama yaitu Nicholas Evans. Oleh karena itu, dapat disimpulkan bahwa model yang dibangun sudah bisa dipakai untuk memberikan rekomendasi buku berdasarkan penulis yang sama.\n",
        "\n",
        "## Hubungan Business Understanding\n",
        "| **Aspek**                                                                                                       | **Evaluasi**                                                                                                                                                                                                |\n",
        "| --------------------------------------------------------------------------------------------------------------- | ----------------------------------------------------------------------------------------------------------------------------------------------------------------------------------------------------------- |\n",
        "| **Problem 1: Pengguna kesulitan menemukan buku yang sesuai dengan minat mereka karena terlalu banyak pilihan**  | Model mampu menyaring dan merekomendasikan buku yang relevan berdasarkan kemiripan dengan buku yang pernah dibaca atau disukai, sehingga membantu pengguna menemukan buku yang sesuai dengan preferensinya. |\n",
        "| **Problem 2: Rekomendasi yang bersifat umum atau acak sering kali tidak relevan**                               | Dengan pendekatan content-based filtering dan perhitungan kemiripan menggunakan cosine similarity, sistem dapat memberikan rekomendasi yang lebih personal dan tepat sasaran.                               |\n",
        "| **Problem 3: Kurangnya pemanfaatan teknologi machine learning dalam sistem rekomendasi buku yang ada saat ini** | Sistem yang dibangun telah mengimplementasikan teknik TF-IDF dan cosine similarity secara efektif untuk memahami kemiripan antar buku, memanfaatkan teknologi machine learning secara langsung.             |\n",
        "| **Goal 1: Mengembangkan sistem rekomendasi buku berbasis machine learning**                                     | Sistem berhasil dibangun dengan pendekatan content-based filtering menggunakan data buku, penulis, dan tingkat kesamaan antar konten.                                                                       |\n",
        "| **Goal 2: Menganalisis dan memahami preferensi pengguna berdasarkan data buku yang pernah dibaca**              | Sistem dapat mengidentifikasi dan menyarankan buku lain berdasarkan kemiripan penulis dengan yang pernah dibaca oleh pengguna.                                                                              |\n",
        "| **Goal 3: Meningkatkan relevansi dan akurasi rekomendasi buku untuk setiap pengguna**                           | Output sistem memberikan hasil dengan skor kemiripan yang tinggi, menunjukkan bahwa sistem menghasilkan rekomendasi yang relevan dan akurat.                                                                |\n",
        "\n",
        "## Solusi\n",
        "Solusi yang dikembangkan berupa sistem rekomendasi buku berbasis content-based filtering terbukti mampu menyajikan daftar rekomendasi buku yang sesuai berdasarkan konten buku yang telah dibaca, khususnya melalui analisis penulis. Dengan menggunakan pendekatan TF-IDF Vectorizer dan cosine similarity, sistem ini memberikan hasil yang akurat dan relevan tanpa memerlukan data eksplisit dari pengguna. Hasilnya, pengguna dapat dengan mudah menemukan buku yang sesuai dengan minatnya, menghemat waktu dalam pencarian, serta meningkatkan kepuasan terhadap pengalaman membaca.\n",
        "\n",
        "Dengan demikian, tahap evaluasi menunjukkan bahwa model rekomendasi yang dibangun tidak hanya menjawab permasalahan utama pengguna, tetapi juga memberikan nilai tambah nyata dalam konteks personalisasi dan efisiensi dalam menemukan referensi bacaan yang relevan.\n"
      ],
      "metadata": {
        "id": "N2AMo-B9JA1_"
      }
    }
  ],
  "metadata": {
    "colab": {
      "provenance": []
    },
    "kernelspec": {
      "display_name": "Python 3",
      "name": "python3"
    },
    "language_info": {
      "name": "python"
    }
  },
  "nbformat": 4,
  "nbformat_minor": 0
}